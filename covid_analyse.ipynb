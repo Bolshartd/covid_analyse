{
  "nbformat": 4,
  "nbformat_minor": 0,
  "metadata": {
    "colab": {
      "provenance": [],
      "collapsed_sections": [
        "MWycgkJmoWVI",
        "0kBJ6kFj-pcO",
        "nNpWs4-Kk-uH",
        "JTxk01Vx-3az",
        "3YT6njuODDOc",
        "8lyuqymN_K_4",
        "ddScZTzG-HGV",
        "E2H_U8LY-_fY",
        "C5RJm02Y1cAw",
        "s9Qcbp45WJYz",
        "WZLP-BkX1cA5",
        "OSZCuh6k1cA8"
      ],
      "mount_file_id": "1ymFb4ngLwQM29jBRULrb4ujIxFP1Wmi7",
      "authorship_tag": "ABX9TyMRomVZUwuiCZGlIAct82bU",
      "include_colab_link": true
    },
    "kernelspec": {
      "name": "python3",
      "display_name": "Python 3"
    },
    "language_info": {
      "name": "python"
    }
  },
  "cells": [
    {
      "cell_type": "markdown",
      "metadata": {
        "id": "view-in-github",
        "colab_type": "text"
      },
      "source": [
        "<a href=\"https://colab.research.google.com/github/Bolshartd/covid_analyse/blob/main/covid_analyse.ipynb\" target=\"_parent\"><img src=\"https://colab.research.google.com/assets/colab-badge.svg\" alt=\"Open In Colab\"/></a>"
      ]
    },
    {
      "cell_type": "markdown",
      "source": [
        "# Кластеризация за 1 день (28.02.2023)\n",
        "\n",
        "---\n",
        "\n"
      ],
      "metadata": {
        "id": "MWycgkJmoWVI"
      }
    },
    {
      "cell_type": "code",
      "execution_count": null,
      "metadata": {
        "id": "px4PPk2ETPoV"
      },
      "outputs": [],
      "source": [
        "from google.colab import drive"
      ]
    },
    {
      "cell_type": "code",
      "source": [
        "drive.mount('/content/gdrive')"
      ],
      "metadata": {
        "colab": {
          "base_uri": "https://localhost:8080/"
        },
        "id": "0iYz8WcRUADl",
        "outputId": "dd74f339-e0b5-4822-dff5-aaf9ad8ffa98"
      },
      "execution_count": null,
      "outputs": [
        {
          "output_type": "stream",
          "name": "stdout",
          "text": [
            "Drive already mounted at /content/gdrive; to attempt to forcibly remount, call drive.mount(\"/content/gdrive\", force_remount=True).\n"
          ]
        }
      ]
    },
    {
      "cell_type": "code",
      "source": [
        "import pandas as pd\n",
        "import numpy as np"
      ],
      "metadata": {
        "id": "whtoXdz3UGWf"
      },
      "execution_count": null,
      "outputs": []
    },
    {
      "cell_type": "markdown",
      "source": [
        "### Подготовка данных\n",
        "\n",
        "---\n",
        "\n"
      ],
      "metadata": {
        "id": "0kBJ6kFj-pcO"
      }
    },
    {
      "cell_type": "code",
      "source": [
        "# Подгружаем данные по заболевшим\n",
        "df1 = pd.read_csv('/content/gdrive/MyDrive/Colab Notebooks/Task_15/time_series_covid19_confirmed_global.csv')\n",
        "df1.head()"
      ],
      "metadata": {
        "colab": {
          "base_uri": "https://localhost:8080/",
          "height": 299
        },
        "id": "QfJfvVT0VFWM",
        "outputId": "e13f64f5-6b19-4870-a813-3e2867114670"
      },
      "execution_count": null,
      "outputs": [
        {
          "output_type": "execute_result",
          "data": {
            "text/plain": [
              "  Province/State Country/Region       Lat       Long  1/22/20  1/23/20  \\\n",
              "0            NaN    Afghanistan  33.93911  67.709953        0        0   \n",
              "1            NaN        Albania  41.15330  20.168300        0        0   \n",
              "2            NaN        Algeria  28.03390   1.659600        0        0   \n",
              "3            NaN        Andorra  42.50630   1.521800        0        0   \n",
              "4            NaN         Angola -11.20270  17.873900        0        0   \n",
              "\n",
              "   1/24/20  1/25/20  1/26/20  1/27/20  ...  2/19/23  2/20/23  2/21/23  \\\n",
              "0        0        0        0        0  ...   209107   209153   209181   \n",
              "1        0        0        0        0  ...   334314   334315   334336   \n",
              "2        0        0        0        0  ...   271425   271426   271428   \n",
              "3        0        0        0        0  ...    47866    47866    47866   \n",
              "4        0        0        0        0  ...   105184   105184   105184   \n",
              "\n",
              "   2/22/23  2/23/23  2/24/23  2/25/23  2/26/23  2/27/23  2/28/23  \n",
              "0   209181   209215   209230   209246   209274   209308   209322  \n",
              "1   334336   334345   334356   334373   334378   334380   334391  \n",
              "2   271431   271432   271436   271439   271440   271440   271441  \n",
              "3    47866    47866    47866    47866    47866    47866    47866  \n",
              "4   105205   105205   105205   105205   105205   105255   105255  \n",
              "\n",
              "[5 rows x 1138 columns]"
            ],
            "text/html": [
              "\n",
              "  <div id=\"df-d1ba94b7-c9e1-4a6e-9905-b8347ad42a3e\">\n",
              "    <div class=\"colab-df-container\">\n",
              "      <div>\n",
              "<style scoped>\n",
              "    .dataframe tbody tr th:only-of-type {\n",
              "        vertical-align: middle;\n",
              "    }\n",
              "\n",
              "    .dataframe tbody tr th {\n",
              "        vertical-align: top;\n",
              "    }\n",
              "\n",
              "    .dataframe thead th {\n",
              "        text-align: right;\n",
              "    }\n",
              "</style>\n",
              "<table border=\"1\" class=\"dataframe\">\n",
              "  <thead>\n",
              "    <tr style=\"text-align: right;\">\n",
              "      <th></th>\n",
              "      <th>Province/State</th>\n",
              "      <th>Country/Region</th>\n",
              "      <th>Lat</th>\n",
              "      <th>Long</th>\n",
              "      <th>1/22/20</th>\n",
              "      <th>1/23/20</th>\n",
              "      <th>1/24/20</th>\n",
              "      <th>1/25/20</th>\n",
              "      <th>1/26/20</th>\n",
              "      <th>1/27/20</th>\n",
              "      <th>...</th>\n",
              "      <th>2/19/23</th>\n",
              "      <th>2/20/23</th>\n",
              "      <th>2/21/23</th>\n",
              "      <th>2/22/23</th>\n",
              "      <th>2/23/23</th>\n",
              "      <th>2/24/23</th>\n",
              "      <th>2/25/23</th>\n",
              "      <th>2/26/23</th>\n",
              "      <th>2/27/23</th>\n",
              "      <th>2/28/23</th>\n",
              "    </tr>\n",
              "  </thead>\n",
              "  <tbody>\n",
              "    <tr>\n",
              "      <th>0</th>\n",
              "      <td>NaN</td>\n",
              "      <td>Afghanistan</td>\n",
              "      <td>33.93911</td>\n",
              "      <td>67.709953</td>\n",
              "      <td>0</td>\n",
              "      <td>0</td>\n",
              "      <td>0</td>\n",
              "      <td>0</td>\n",
              "      <td>0</td>\n",
              "      <td>0</td>\n",
              "      <td>...</td>\n",
              "      <td>209107</td>\n",
              "      <td>209153</td>\n",
              "      <td>209181</td>\n",
              "      <td>209181</td>\n",
              "      <td>209215</td>\n",
              "      <td>209230</td>\n",
              "      <td>209246</td>\n",
              "      <td>209274</td>\n",
              "      <td>209308</td>\n",
              "      <td>209322</td>\n",
              "    </tr>\n",
              "    <tr>\n",
              "      <th>1</th>\n",
              "      <td>NaN</td>\n",
              "      <td>Albania</td>\n",
              "      <td>41.15330</td>\n",
              "      <td>20.168300</td>\n",
              "      <td>0</td>\n",
              "      <td>0</td>\n",
              "      <td>0</td>\n",
              "      <td>0</td>\n",
              "      <td>0</td>\n",
              "      <td>0</td>\n",
              "      <td>...</td>\n",
              "      <td>334314</td>\n",
              "      <td>334315</td>\n",
              "      <td>334336</td>\n",
              "      <td>334336</td>\n",
              "      <td>334345</td>\n",
              "      <td>334356</td>\n",
              "      <td>334373</td>\n",
              "      <td>334378</td>\n",
              "      <td>334380</td>\n",
              "      <td>334391</td>\n",
              "    </tr>\n",
              "    <tr>\n",
              "      <th>2</th>\n",
              "      <td>NaN</td>\n",
              "      <td>Algeria</td>\n",
              "      <td>28.03390</td>\n",
              "      <td>1.659600</td>\n",
              "      <td>0</td>\n",
              "      <td>0</td>\n",
              "      <td>0</td>\n",
              "      <td>0</td>\n",
              "      <td>0</td>\n",
              "      <td>0</td>\n",
              "      <td>...</td>\n",
              "      <td>271425</td>\n",
              "      <td>271426</td>\n",
              "      <td>271428</td>\n",
              "      <td>271431</td>\n",
              "      <td>271432</td>\n",
              "      <td>271436</td>\n",
              "      <td>271439</td>\n",
              "      <td>271440</td>\n",
              "      <td>271440</td>\n",
              "      <td>271441</td>\n",
              "    </tr>\n",
              "    <tr>\n",
              "      <th>3</th>\n",
              "      <td>NaN</td>\n",
              "      <td>Andorra</td>\n",
              "      <td>42.50630</td>\n",
              "      <td>1.521800</td>\n",
              "      <td>0</td>\n",
              "      <td>0</td>\n",
              "      <td>0</td>\n",
              "      <td>0</td>\n",
              "      <td>0</td>\n",
              "      <td>0</td>\n",
              "      <td>...</td>\n",
              "      <td>47866</td>\n",
              "      <td>47866</td>\n",
              "      <td>47866</td>\n",
              "      <td>47866</td>\n",
              "      <td>47866</td>\n",
              "      <td>47866</td>\n",
              "      <td>47866</td>\n",
              "      <td>47866</td>\n",
              "      <td>47866</td>\n",
              "      <td>47866</td>\n",
              "    </tr>\n",
              "    <tr>\n",
              "      <th>4</th>\n",
              "      <td>NaN</td>\n",
              "      <td>Angola</td>\n",
              "      <td>-11.20270</td>\n",
              "      <td>17.873900</td>\n",
              "      <td>0</td>\n",
              "      <td>0</td>\n",
              "      <td>0</td>\n",
              "      <td>0</td>\n",
              "      <td>0</td>\n",
              "      <td>0</td>\n",
              "      <td>...</td>\n",
              "      <td>105184</td>\n",
              "      <td>105184</td>\n",
              "      <td>105184</td>\n",
              "      <td>105205</td>\n",
              "      <td>105205</td>\n",
              "      <td>105205</td>\n",
              "      <td>105205</td>\n",
              "      <td>105205</td>\n",
              "      <td>105255</td>\n",
              "      <td>105255</td>\n",
              "    </tr>\n",
              "  </tbody>\n",
              "</table>\n",
              "<p>5 rows × 1138 columns</p>\n",
              "</div>\n",
              "      <button class=\"colab-df-convert\" onclick=\"convertToInteractive('df-d1ba94b7-c9e1-4a6e-9905-b8347ad42a3e')\"\n",
              "              title=\"Convert this dataframe to an interactive table.\"\n",
              "              style=\"display:none;\">\n",
              "        \n",
              "  <svg xmlns=\"http://www.w3.org/2000/svg\" height=\"24px\"viewBox=\"0 0 24 24\"\n",
              "       width=\"24px\">\n",
              "    <path d=\"M0 0h24v24H0V0z\" fill=\"none\"/>\n",
              "    <path d=\"M18.56 5.44l.94 2.06.94-2.06 2.06-.94-2.06-.94-.94-2.06-.94 2.06-2.06.94zm-11 1L8.5 8.5l.94-2.06 2.06-.94-2.06-.94L8.5 2.5l-.94 2.06-2.06.94zm10 10l.94 2.06.94-2.06 2.06-.94-2.06-.94-.94-2.06-.94 2.06-2.06.94z\"/><path d=\"M17.41 7.96l-1.37-1.37c-.4-.4-.92-.59-1.43-.59-.52 0-1.04.2-1.43.59L10.3 9.45l-7.72 7.72c-.78.78-.78 2.05 0 2.83L4 21.41c.39.39.9.59 1.41.59.51 0 1.02-.2 1.41-.59l7.78-7.78 2.81-2.81c.8-.78.8-2.07 0-2.86zM5.41 20L4 18.59l7.72-7.72 1.47 1.35L5.41 20z\"/>\n",
              "  </svg>\n",
              "      </button>\n",
              "      \n",
              "  <style>\n",
              "    .colab-df-container {\n",
              "      display:flex;\n",
              "      flex-wrap:wrap;\n",
              "      gap: 12px;\n",
              "    }\n",
              "\n",
              "    .colab-df-convert {\n",
              "      background-color: #E8F0FE;\n",
              "      border: none;\n",
              "      border-radius: 50%;\n",
              "      cursor: pointer;\n",
              "      display: none;\n",
              "      fill: #1967D2;\n",
              "      height: 32px;\n",
              "      padding: 0 0 0 0;\n",
              "      width: 32px;\n",
              "    }\n",
              "\n",
              "    .colab-df-convert:hover {\n",
              "      background-color: #E2EBFA;\n",
              "      box-shadow: 0px 1px 2px rgba(60, 64, 67, 0.3), 0px 1px 3px 1px rgba(60, 64, 67, 0.15);\n",
              "      fill: #174EA6;\n",
              "    }\n",
              "\n",
              "    [theme=dark] .colab-df-convert {\n",
              "      background-color: #3B4455;\n",
              "      fill: #D2E3FC;\n",
              "    }\n",
              "\n",
              "    [theme=dark] .colab-df-convert:hover {\n",
              "      background-color: #434B5C;\n",
              "      box-shadow: 0px 1px 3px 1px rgba(0, 0, 0, 0.15);\n",
              "      filter: drop-shadow(0px 1px 2px rgba(0, 0, 0, 0.3));\n",
              "      fill: #FFFFFF;\n",
              "    }\n",
              "  </style>\n",
              "\n",
              "      <script>\n",
              "        const buttonEl =\n",
              "          document.querySelector('#df-d1ba94b7-c9e1-4a6e-9905-b8347ad42a3e button.colab-df-convert');\n",
              "        buttonEl.style.display =\n",
              "          google.colab.kernel.accessAllowed ? 'block' : 'none';\n",
              "\n",
              "        async function convertToInteractive(key) {\n",
              "          const element = document.querySelector('#df-d1ba94b7-c9e1-4a6e-9905-b8347ad42a3e');\n",
              "          const dataTable =\n",
              "            await google.colab.kernel.invokeFunction('convertToInteractive',\n",
              "                                                     [key], {});\n",
              "          if (!dataTable) return;\n",
              "\n",
              "          const docLinkHtml = 'Like what you see? Visit the ' +\n",
              "            '<a target=\"_blank\" href=https://colab.research.google.com/notebooks/data_table.ipynb>data table notebook</a>'\n",
              "            + ' to learn more about interactive tables.';\n",
              "          element.innerHTML = '';\n",
              "          dataTable['output_type'] = 'display_data';\n",
              "          await google.colab.output.renderOutput(dataTable, element);\n",
              "          const docLink = document.createElement('div');\n",
              "          docLink.innerHTML = docLinkHtml;\n",
              "          element.appendChild(docLink);\n",
              "        }\n",
              "      </script>\n",
              "    </div>\n",
              "  </div>\n",
              "  "
            ]
          },
          "metadata": {},
          "execution_count": 143
        }
      ]
    },
    {
      "cell_type": "code",
      "source": [
        "# Подгружаем данные по умершим\n",
        "df2 = pd.read_csv('/content/gdrive/MyDrive/Colab Notebooks/Task_15/time_series_covid19_deaths_global.csv')\n",
        "df2.head()"
      ],
      "metadata": {
        "colab": {
          "base_uri": "https://localhost:8080/",
          "height": 299
        },
        "id": "Ylxijs7nUHsY",
        "outputId": "8a398a1a-76fc-43a3-c3ce-42b3d53dfc32"
      },
      "execution_count": null,
      "outputs": [
        {
          "output_type": "execute_result",
          "data": {
            "text/plain": [
              "  Province/State Country/Region       Lat       Long  1/22/20  1/23/20  \\\n",
              "0            NaN    Afghanistan  33.93911  67.709953        0        0   \n",
              "1            NaN        Albania  41.15330  20.168300        0        0   \n",
              "2            NaN        Algeria  28.03390   1.659600        0        0   \n",
              "3            NaN        Andorra  42.50630   1.521800        0        0   \n",
              "4            NaN         Angola -11.20270  17.873900        0        0   \n",
              "\n",
              "   1/24/20  1/25/20  1/26/20  1/27/20  ...  2/19/23  2/20/23  2/21/23  \\\n",
              "0        0        0        0        0  ...     7896     7896     7896   \n",
              "1        0        0        0        0  ...     3596     3596     3596   \n",
              "2        0        0        0        0  ...     6881     6881     6881   \n",
              "3        0        0        0        0  ...      165      165      165   \n",
              "4        0        0        0        0  ...     1931     1931     1931   \n",
              "\n",
              "   2/22/23  2/23/23  2/24/23  2/25/23  2/26/23  2/27/23  2/28/23  \n",
              "0     7896     7896     7896     7896     7896     7896     7896  \n",
              "1     3598     3598     3598     3598     3598     3598     3598  \n",
              "2     6881     6881     6881     6881     6881     6881     6881  \n",
              "3      165      165      165      165      165      165      165  \n",
              "4     1931     1931     1931     1931     1931     1933     1933  \n",
              "\n",
              "[5 rows x 1138 columns]"
            ],
            "text/html": [
              "\n",
              "  <div id=\"df-49b46e6b-d226-441d-bfb0-7a935d455ee7\">\n",
              "    <div class=\"colab-df-container\">\n",
              "      <div>\n",
              "<style scoped>\n",
              "    .dataframe tbody tr th:only-of-type {\n",
              "        vertical-align: middle;\n",
              "    }\n",
              "\n",
              "    .dataframe tbody tr th {\n",
              "        vertical-align: top;\n",
              "    }\n",
              "\n",
              "    .dataframe thead th {\n",
              "        text-align: right;\n",
              "    }\n",
              "</style>\n",
              "<table border=\"1\" class=\"dataframe\">\n",
              "  <thead>\n",
              "    <tr style=\"text-align: right;\">\n",
              "      <th></th>\n",
              "      <th>Province/State</th>\n",
              "      <th>Country/Region</th>\n",
              "      <th>Lat</th>\n",
              "      <th>Long</th>\n",
              "      <th>1/22/20</th>\n",
              "      <th>1/23/20</th>\n",
              "      <th>1/24/20</th>\n",
              "      <th>1/25/20</th>\n",
              "      <th>1/26/20</th>\n",
              "      <th>1/27/20</th>\n",
              "      <th>...</th>\n",
              "      <th>2/19/23</th>\n",
              "      <th>2/20/23</th>\n",
              "      <th>2/21/23</th>\n",
              "      <th>2/22/23</th>\n",
              "      <th>2/23/23</th>\n",
              "      <th>2/24/23</th>\n",
              "      <th>2/25/23</th>\n",
              "      <th>2/26/23</th>\n",
              "      <th>2/27/23</th>\n",
              "      <th>2/28/23</th>\n",
              "    </tr>\n",
              "  </thead>\n",
              "  <tbody>\n",
              "    <tr>\n",
              "      <th>0</th>\n",
              "      <td>NaN</td>\n",
              "      <td>Afghanistan</td>\n",
              "      <td>33.93911</td>\n",
              "      <td>67.709953</td>\n",
              "      <td>0</td>\n",
              "      <td>0</td>\n",
              "      <td>0</td>\n",
              "      <td>0</td>\n",
              "      <td>0</td>\n",
              "      <td>0</td>\n",
              "      <td>...</td>\n",
              "      <td>7896</td>\n",
              "      <td>7896</td>\n",
              "      <td>7896</td>\n",
              "      <td>7896</td>\n",
              "      <td>7896</td>\n",
              "      <td>7896</td>\n",
              "      <td>7896</td>\n",
              "      <td>7896</td>\n",
              "      <td>7896</td>\n",
              "      <td>7896</td>\n",
              "    </tr>\n",
              "    <tr>\n",
              "      <th>1</th>\n",
              "      <td>NaN</td>\n",
              "      <td>Albania</td>\n",
              "      <td>41.15330</td>\n",
              "      <td>20.168300</td>\n",
              "      <td>0</td>\n",
              "      <td>0</td>\n",
              "      <td>0</td>\n",
              "      <td>0</td>\n",
              "      <td>0</td>\n",
              "      <td>0</td>\n",
              "      <td>...</td>\n",
              "      <td>3596</td>\n",
              "      <td>3596</td>\n",
              "      <td>3596</td>\n",
              "      <td>3598</td>\n",
              "      <td>3598</td>\n",
              "      <td>3598</td>\n",
              "      <td>3598</td>\n",
              "      <td>3598</td>\n",
              "      <td>3598</td>\n",
              "      <td>3598</td>\n",
              "    </tr>\n",
              "    <tr>\n",
              "      <th>2</th>\n",
              "      <td>NaN</td>\n",
              "      <td>Algeria</td>\n",
              "      <td>28.03390</td>\n",
              "      <td>1.659600</td>\n",
              "      <td>0</td>\n",
              "      <td>0</td>\n",
              "      <td>0</td>\n",
              "      <td>0</td>\n",
              "      <td>0</td>\n",
              "      <td>0</td>\n",
              "      <td>...</td>\n",
              "      <td>6881</td>\n",
              "      <td>6881</td>\n",
              "      <td>6881</td>\n",
              "      <td>6881</td>\n",
              "      <td>6881</td>\n",
              "      <td>6881</td>\n",
              "      <td>6881</td>\n",
              "      <td>6881</td>\n",
              "      <td>6881</td>\n",
              "      <td>6881</td>\n",
              "    </tr>\n",
              "    <tr>\n",
              "      <th>3</th>\n",
              "      <td>NaN</td>\n",
              "      <td>Andorra</td>\n",
              "      <td>42.50630</td>\n",
              "      <td>1.521800</td>\n",
              "      <td>0</td>\n",
              "      <td>0</td>\n",
              "      <td>0</td>\n",
              "      <td>0</td>\n",
              "      <td>0</td>\n",
              "      <td>0</td>\n",
              "      <td>...</td>\n",
              "      <td>165</td>\n",
              "      <td>165</td>\n",
              "      <td>165</td>\n",
              "      <td>165</td>\n",
              "      <td>165</td>\n",
              "      <td>165</td>\n",
              "      <td>165</td>\n",
              "      <td>165</td>\n",
              "      <td>165</td>\n",
              "      <td>165</td>\n",
              "    </tr>\n",
              "    <tr>\n",
              "      <th>4</th>\n",
              "      <td>NaN</td>\n",
              "      <td>Angola</td>\n",
              "      <td>-11.20270</td>\n",
              "      <td>17.873900</td>\n",
              "      <td>0</td>\n",
              "      <td>0</td>\n",
              "      <td>0</td>\n",
              "      <td>0</td>\n",
              "      <td>0</td>\n",
              "      <td>0</td>\n",
              "      <td>...</td>\n",
              "      <td>1931</td>\n",
              "      <td>1931</td>\n",
              "      <td>1931</td>\n",
              "      <td>1931</td>\n",
              "      <td>1931</td>\n",
              "      <td>1931</td>\n",
              "      <td>1931</td>\n",
              "      <td>1931</td>\n",
              "      <td>1933</td>\n",
              "      <td>1933</td>\n",
              "    </tr>\n",
              "  </tbody>\n",
              "</table>\n",
              "<p>5 rows × 1138 columns</p>\n",
              "</div>\n",
              "      <button class=\"colab-df-convert\" onclick=\"convertToInteractive('df-49b46e6b-d226-441d-bfb0-7a935d455ee7')\"\n",
              "              title=\"Convert this dataframe to an interactive table.\"\n",
              "              style=\"display:none;\">\n",
              "        \n",
              "  <svg xmlns=\"http://www.w3.org/2000/svg\" height=\"24px\"viewBox=\"0 0 24 24\"\n",
              "       width=\"24px\">\n",
              "    <path d=\"M0 0h24v24H0V0z\" fill=\"none\"/>\n",
              "    <path d=\"M18.56 5.44l.94 2.06.94-2.06 2.06-.94-2.06-.94-.94-2.06-.94 2.06-2.06.94zm-11 1L8.5 8.5l.94-2.06 2.06-.94-2.06-.94L8.5 2.5l-.94 2.06-2.06.94zm10 10l.94 2.06.94-2.06 2.06-.94-2.06-.94-.94-2.06-.94 2.06-2.06.94z\"/><path d=\"M17.41 7.96l-1.37-1.37c-.4-.4-.92-.59-1.43-.59-.52 0-1.04.2-1.43.59L10.3 9.45l-7.72 7.72c-.78.78-.78 2.05 0 2.83L4 21.41c.39.39.9.59 1.41.59.51 0 1.02-.2 1.41-.59l7.78-7.78 2.81-2.81c.8-.78.8-2.07 0-2.86zM5.41 20L4 18.59l7.72-7.72 1.47 1.35L5.41 20z\"/>\n",
              "  </svg>\n",
              "      </button>\n",
              "      \n",
              "  <style>\n",
              "    .colab-df-container {\n",
              "      display:flex;\n",
              "      flex-wrap:wrap;\n",
              "      gap: 12px;\n",
              "    }\n",
              "\n",
              "    .colab-df-convert {\n",
              "      background-color: #E8F0FE;\n",
              "      border: none;\n",
              "      border-radius: 50%;\n",
              "      cursor: pointer;\n",
              "      display: none;\n",
              "      fill: #1967D2;\n",
              "      height: 32px;\n",
              "      padding: 0 0 0 0;\n",
              "      width: 32px;\n",
              "    }\n",
              "\n",
              "    .colab-df-convert:hover {\n",
              "      background-color: #E2EBFA;\n",
              "      box-shadow: 0px 1px 2px rgba(60, 64, 67, 0.3), 0px 1px 3px 1px rgba(60, 64, 67, 0.15);\n",
              "      fill: #174EA6;\n",
              "    }\n",
              "\n",
              "    [theme=dark] .colab-df-convert {\n",
              "      background-color: #3B4455;\n",
              "      fill: #D2E3FC;\n",
              "    }\n",
              "\n",
              "    [theme=dark] .colab-df-convert:hover {\n",
              "      background-color: #434B5C;\n",
              "      box-shadow: 0px 1px 3px 1px rgba(0, 0, 0, 0.15);\n",
              "      filter: drop-shadow(0px 1px 2px rgba(0, 0, 0, 0.3));\n",
              "      fill: #FFFFFF;\n",
              "    }\n",
              "  </style>\n",
              "\n",
              "      <script>\n",
              "        const buttonEl =\n",
              "          document.querySelector('#df-49b46e6b-d226-441d-bfb0-7a935d455ee7 button.colab-df-convert');\n",
              "        buttonEl.style.display =\n",
              "          google.colab.kernel.accessAllowed ? 'block' : 'none';\n",
              "\n",
              "        async function convertToInteractive(key) {\n",
              "          const element = document.querySelector('#df-49b46e6b-d226-441d-bfb0-7a935d455ee7');\n",
              "          const dataTable =\n",
              "            await google.colab.kernel.invokeFunction('convertToInteractive',\n",
              "                                                     [key], {});\n",
              "          if (!dataTable) return;\n",
              "\n",
              "          const docLinkHtml = 'Like what you see? Visit the ' +\n",
              "            '<a target=\"_blank\" href=https://colab.research.google.com/notebooks/data_table.ipynb>data table notebook</a>'\n",
              "            + ' to learn more about interactive tables.';\n",
              "          element.innerHTML = '';\n",
              "          dataTable['output_type'] = 'display_data';\n",
              "          await google.colab.output.renderOutput(dataTable, element);\n",
              "          const docLink = document.createElement('div');\n",
              "          docLink.innerHTML = docLinkHtml;\n",
              "          element.appendChild(docLink);\n",
              "        }\n",
              "      </script>\n",
              "    </div>\n",
              "  </div>\n",
              "  "
            ]
          },
          "metadata": {},
          "execution_count": 144
        }
      ]
    },
    {
      "cell_type": "code",
      "source": [
        "# Вычисляем данные по заболевшим и умершим за 28.02.2023\n",
        "date1 = df1[ '2/28/23'] - df1[ '2/27/23']\n",
        "date2 = df2[ '2/28/23'] - df2[ '2/27/23']\n",
        "df1['2/28/23'] = date1\n",
        "df2['2/28/23'] = date2"
      ],
      "metadata": {
        "id": "Lk-jO6Be2dBn"
      },
      "execution_count": null,
      "outputs": []
    },
    {
      "cell_type": "code",
      "source": [
        "# Оставляем только интересующие данные из таблицы\n",
        "day_1 = df1[['Country/Region', 'Lat', 'Long', '2/28/23']]\n",
        "day_1.columns = ['Country/Region', 'Lat', 'Long', 'Заболевшие на 28.02.2023']\n",
        "day_2 = df2[['Country/Region', 'Lat', 'Long', '2/28/23']]\n",
        "day_2.columns = ['Country/Region', 'Lat', 'Long', 'Умершие на 28.02.2023']\n",
        "day = pd.merge(day_1, day_2)\n",
        "day.columns = ['Страна', 'Широта', 'Долгота', 'Заболевшие на 28.02.2023', 'Умершие на 28.02.2023']\n",
        "day.fillna(0)\n",
        "day"
      ],
      "metadata": {
        "colab": {
          "base_uri": "https://localhost:8080/",
          "height": 423
        },
        "id": "G36UExCVZ3n3",
        "outputId": "5f211ffd-af3c-4d10-8fc4-17b15f8cef7c"
      },
      "execution_count": null,
      "outputs": [
        {
          "output_type": "execute_result",
          "data": {
            "text/plain": [
              "                   Страна     Широта     Долгота  Заболевшие на 28.02.2023  \\\n",
              "0             Afghanistan  33.939110   67.709953                        14   \n",
              "1                 Albania  41.153300   20.168300                        11   \n",
              "2                 Algeria  28.033900    1.659600                         1   \n",
              "3                 Andorra  42.506300    1.521800                         0   \n",
              "4                  Angola -11.202700   17.873900                         0   \n",
              "..                    ...        ...         ...                       ...   \n",
              "286    West Bank and Gaza  31.952200   35.233200                         0   \n",
              "287  Winter Olympics 2022  39.904200  116.407400                         0   \n",
              "288                 Yemen  15.552727   48.516388                         0   \n",
              "289                Zambia -13.133897   27.849332                       181   \n",
              "290              Zimbabwe -19.015438   29.154857                         0   \n",
              "\n",
              "     Умершие на 28.02.2023  \n",
              "0                        0  \n",
              "1                        0  \n",
              "2                        0  \n",
              "3                        0  \n",
              "4                        0  \n",
              "..                     ...  \n",
              "286                      0  \n",
              "287                      0  \n",
              "288                      0  \n",
              "289                      2  \n",
              "290                      0  \n",
              "\n",
              "[291 rows x 5 columns]"
            ],
            "text/html": [
              "\n",
              "  <div id=\"df-4574502d-c9c7-44f4-8d3f-49595d06d17c\">\n",
              "    <div class=\"colab-df-container\">\n",
              "      <div>\n",
              "<style scoped>\n",
              "    .dataframe tbody tr th:only-of-type {\n",
              "        vertical-align: middle;\n",
              "    }\n",
              "\n",
              "    .dataframe tbody tr th {\n",
              "        vertical-align: top;\n",
              "    }\n",
              "\n",
              "    .dataframe thead th {\n",
              "        text-align: right;\n",
              "    }\n",
              "</style>\n",
              "<table border=\"1\" class=\"dataframe\">\n",
              "  <thead>\n",
              "    <tr style=\"text-align: right;\">\n",
              "      <th></th>\n",
              "      <th>Страна</th>\n",
              "      <th>Широта</th>\n",
              "      <th>Долгота</th>\n",
              "      <th>Заболевшие на 28.02.2023</th>\n",
              "      <th>Умершие на 28.02.2023</th>\n",
              "    </tr>\n",
              "  </thead>\n",
              "  <tbody>\n",
              "    <tr>\n",
              "      <th>0</th>\n",
              "      <td>Afghanistan</td>\n",
              "      <td>33.939110</td>\n",
              "      <td>67.709953</td>\n",
              "      <td>14</td>\n",
              "      <td>0</td>\n",
              "    </tr>\n",
              "    <tr>\n",
              "      <th>1</th>\n",
              "      <td>Albania</td>\n",
              "      <td>41.153300</td>\n",
              "      <td>20.168300</td>\n",
              "      <td>11</td>\n",
              "      <td>0</td>\n",
              "    </tr>\n",
              "    <tr>\n",
              "      <th>2</th>\n",
              "      <td>Algeria</td>\n",
              "      <td>28.033900</td>\n",
              "      <td>1.659600</td>\n",
              "      <td>1</td>\n",
              "      <td>0</td>\n",
              "    </tr>\n",
              "    <tr>\n",
              "      <th>3</th>\n",
              "      <td>Andorra</td>\n",
              "      <td>42.506300</td>\n",
              "      <td>1.521800</td>\n",
              "      <td>0</td>\n",
              "      <td>0</td>\n",
              "    </tr>\n",
              "    <tr>\n",
              "      <th>4</th>\n",
              "      <td>Angola</td>\n",
              "      <td>-11.202700</td>\n",
              "      <td>17.873900</td>\n",
              "      <td>0</td>\n",
              "      <td>0</td>\n",
              "    </tr>\n",
              "    <tr>\n",
              "      <th>...</th>\n",
              "      <td>...</td>\n",
              "      <td>...</td>\n",
              "      <td>...</td>\n",
              "      <td>...</td>\n",
              "      <td>...</td>\n",
              "    </tr>\n",
              "    <tr>\n",
              "      <th>286</th>\n",
              "      <td>West Bank and Gaza</td>\n",
              "      <td>31.952200</td>\n",
              "      <td>35.233200</td>\n",
              "      <td>0</td>\n",
              "      <td>0</td>\n",
              "    </tr>\n",
              "    <tr>\n",
              "      <th>287</th>\n",
              "      <td>Winter Olympics 2022</td>\n",
              "      <td>39.904200</td>\n",
              "      <td>116.407400</td>\n",
              "      <td>0</td>\n",
              "      <td>0</td>\n",
              "    </tr>\n",
              "    <tr>\n",
              "      <th>288</th>\n",
              "      <td>Yemen</td>\n",
              "      <td>15.552727</td>\n",
              "      <td>48.516388</td>\n",
              "      <td>0</td>\n",
              "      <td>0</td>\n",
              "    </tr>\n",
              "    <tr>\n",
              "      <th>289</th>\n",
              "      <td>Zambia</td>\n",
              "      <td>-13.133897</td>\n",
              "      <td>27.849332</td>\n",
              "      <td>181</td>\n",
              "      <td>2</td>\n",
              "    </tr>\n",
              "    <tr>\n",
              "      <th>290</th>\n",
              "      <td>Zimbabwe</td>\n",
              "      <td>-19.015438</td>\n",
              "      <td>29.154857</td>\n",
              "      <td>0</td>\n",
              "      <td>0</td>\n",
              "    </tr>\n",
              "  </tbody>\n",
              "</table>\n",
              "<p>291 rows × 5 columns</p>\n",
              "</div>\n",
              "      <button class=\"colab-df-convert\" onclick=\"convertToInteractive('df-4574502d-c9c7-44f4-8d3f-49595d06d17c')\"\n",
              "              title=\"Convert this dataframe to an interactive table.\"\n",
              "              style=\"display:none;\">\n",
              "        \n",
              "  <svg xmlns=\"http://www.w3.org/2000/svg\" height=\"24px\"viewBox=\"0 0 24 24\"\n",
              "       width=\"24px\">\n",
              "    <path d=\"M0 0h24v24H0V0z\" fill=\"none\"/>\n",
              "    <path d=\"M18.56 5.44l.94 2.06.94-2.06 2.06-.94-2.06-.94-.94-2.06-.94 2.06-2.06.94zm-11 1L8.5 8.5l.94-2.06 2.06-.94-2.06-.94L8.5 2.5l-.94 2.06-2.06.94zm10 10l.94 2.06.94-2.06 2.06-.94-2.06-.94-.94-2.06-.94 2.06-2.06.94z\"/><path d=\"M17.41 7.96l-1.37-1.37c-.4-.4-.92-.59-1.43-.59-.52 0-1.04.2-1.43.59L10.3 9.45l-7.72 7.72c-.78.78-.78 2.05 0 2.83L4 21.41c.39.39.9.59 1.41.59.51 0 1.02-.2 1.41-.59l7.78-7.78 2.81-2.81c.8-.78.8-2.07 0-2.86zM5.41 20L4 18.59l7.72-7.72 1.47 1.35L5.41 20z\"/>\n",
              "  </svg>\n",
              "      </button>\n",
              "      \n",
              "  <style>\n",
              "    .colab-df-container {\n",
              "      display:flex;\n",
              "      flex-wrap:wrap;\n",
              "      gap: 12px;\n",
              "    }\n",
              "\n",
              "    .colab-df-convert {\n",
              "      background-color: #E8F0FE;\n",
              "      border: none;\n",
              "      border-radius: 50%;\n",
              "      cursor: pointer;\n",
              "      display: none;\n",
              "      fill: #1967D2;\n",
              "      height: 32px;\n",
              "      padding: 0 0 0 0;\n",
              "      width: 32px;\n",
              "    }\n",
              "\n",
              "    .colab-df-convert:hover {\n",
              "      background-color: #E2EBFA;\n",
              "      box-shadow: 0px 1px 2px rgba(60, 64, 67, 0.3), 0px 1px 3px 1px rgba(60, 64, 67, 0.15);\n",
              "      fill: #174EA6;\n",
              "    }\n",
              "\n",
              "    [theme=dark] .colab-df-convert {\n",
              "      background-color: #3B4455;\n",
              "      fill: #D2E3FC;\n",
              "    }\n",
              "\n",
              "    [theme=dark] .colab-df-convert:hover {\n",
              "      background-color: #434B5C;\n",
              "      box-shadow: 0px 1px 3px 1px rgba(0, 0, 0, 0.15);\n",
              "      filter: drop-shadow(0px 1px 2px rgba(0, 0, 0, 0.3));\n",
              "      fill: #FFFFFF;\n",
              "    }\n",
              "  </style>\n",
              "\n",
              "      <script>\n",
              "        const buttonEl =\n",
              "          document.querySelector('#df-4574502d-c9c7-44f4-8d3f-49595d06d17c button.colab-df-convert');\n",
              "        buttonEl.style.display =\n",
              "          google.colab.kernel.accessAllowed ? 'block' : 'none';\n",
              "\n",
              "        async function convertToInteractive(key) {\n",
              "          const element = document.querySelector('#df-4574502d-c9c7-44f4-8d3f-49595d06d17c');\n",
              "          const dataTable =\n",
              "            await google.colab.kernel.invokeFunction('convertToInteractive',\n",
              "                                                     [key], {});\n",
              "          if (!dataTable) return;\n",
              "\n",
              "          const docLinkHtml = 'Like what you see? Visit the ' +\n",
              "            '<a target=\"_blank\" href=https://colab.research.google.com/notebooks/data_table.ipynb>data table notebook</a>'\n",
              "            + ' to learn more about interactive tables.';\n",
              "          element.innerHTML = '';\n",
              "          dataTable['output_type'] = 'display_data';\n",
              "          await google.colab.output.renderOutput(dataTable, element);\n",
              "          const docLink = document.createElement('div');\n",
              "          docLink.innerHTML = docLinkHtml;\n",
              "          element.appendChild(docLink);\n",
              "        }\n",
              "      </script>\n",
              "    </div>\n",
              "  </div>\n",
              "  "
            ]
          },
          "metadata": {},
          "execution_count": 146
        }
      ]
    },
    {
      "cell_type": "markdown",
      "source": [
        "###Кластеризация по **заболевшим** 28.02.2023\n",
        "\n",
        "---\n",
        "\n"
      ],
      "metadata": {
        "id": "nNpWs4-Kk-uH"
      }
    },
    {
      "cell_type": "code",
      "source": [
        "# Убираем данные со значением  - 0\n",
        "day_kmean_o = day.drop(np.where(day['Заболевшие на 28.02.2023'] == 0)[0])\n",
        "day_kmean_o"
      ],
      "metadata": {
        "colab": {
          "base_uri": "https://localhost:8080/",
          "height": 423
        },
        "id": "AgiL1MmKXR5p",
        "outputId": "f0a9b405-b069-4091-d7dc-f5a724828f82"
      },
      "execution_count": null,
      "outputs": [
        {
          "output_type": "execute_result",
          "data": {
            "text/plain": [
              "                   Страна     Широта     Долгота  Заболевшие на 28.02.2023  \\\n",
              "0             Afghanistan  33.939110   67.709953                        14   \n",
              "1                 Albania  41.153300   20.168300                        11   \n",
              "2                 Algeria  28.033900    1.659600                         1   \n",
              "17                Austria  47.516200   14.550100                      5889   \n",
              "18             Azerbaijan  40.143100   47.576900                        36   \n",
              "..                    ...        ...         ...                       ...   \n",
              "264               Ukraine  48.379400   31.165600                        93   \n",
              "265  United Arab Emirates  23.424076   53.847818                        68   \n",
              "284             Venezuela   6.423800  -66.589700                         7   \n",
              "285               Vietnam  14.058324  108.277199                        12   \n",
              "289                Zambia -13.133897   27.849332                       181   \n",
              "\n",
              "     Умершие на 28.02.2023  \n",
              "0                        0  \n",
              "1                        0  \n",
              "2                        0  \n",
              "17                      15  \n",
              "18                       2  \n",
              "..                     ...  \n",
              "264                      0  \n",
              "265                      0  \n",
              "284                      0  \n",
              "285                      0  \n",
              "289                      2  \n",
              "\n",
              "[67 rows x 5 columns]"
            ],
            "text/html": [
              "\n",
              "  <div id=\"df-0bec7c02-e833-485d-9028-439a5920c08f\">\n",
              "    <div class=\"colab-df-container\">\n",
              "      <div>\n",
              "<style scoped>\n",
              "    .dataframe tbody tr th:only-of-type {\n",
              "        vertical-align: middle;\n",
              "    }\n",
              "\n",
              "    .dataframe tbody tr th {\n",
              "        vertical-align: top;\n",
              "    }\n",
              "\n",
              "    .dataframe thead th {\n",
              "        text-align: right;\n",
              "    }\n",
              "</style>\n",
              "<table border=\"1\" class=\"dataframe\">\n",
              "  <thead>\n",
              "    <tr style=\"text-align: right;\">\n",
              "      <th></th>\n",
              "      <th>Страна</th>\n",
              "      <th>Широта</th>\n",
              "      <th>Долгота</th>\n",
              "      <th>Заболевшие на 28.02.2023</th>\n",
              "      <th>Умершие на 28.02.2023</th>\n",
              "    </tr>\n",
              "  </thead>\n",
              "  <tbody>\n",
              "    <tr>\n",
              "      <th>0</th>\n",
              "      <td>Afghanistan</td>\n",
              "      <td>33.939110</td>\n",
              "      <td>67.709953</td>\n",
              "      <td>14</td>\n",
              "      <td>0</td>\n",
              "    </tr>\n",
              "    <tr>\n",
              "      <th>1</th>\n",
              "      <td>Albania</td>\n",
              "      <td>41.153300</td>\n",
              "      <td>20.168300</td>\n",
              "      <td>11</td>\n",
              "      <td>0</td>\n",
              "    </tr>\n",
              "    <tr>\n",
              "      <th>2</th>\n",
              "      <td>Algeria</td>\n",
              "      <td>28.033900</td>\n",
              "      <td>1.659600</td>\n",
              "      <td>1</td>\n",
              "      <td>0</td>\n",
              "    </tr>\n",
              "    <tr>\n",
              "      <th>17</th>\n",
              "      <td>Austria</td>\n",
              "      <td>47.516200</td>\n",
              "      <td>14.550100</td>\n",
              "      <td>5889</td>\n",
              "      <td>15</td>\n",
              "    </tr>\n",
              "    <tr>\n",
              "      <th>18</th>\n",
              "      <td>Azerbaijan</td>\n",
              "      <td>40.143100</td>\n",
              "      <td>47.576900</td>\n",
              "      <td>36</td>\n",
              "      <td>2</td>\n",
              "    </tr>\n",
              "    <tr>\n",
              "      <th>...</th>\n",
              "      <td>...</td>\n",
              "      <td>...</td>\n",
              "      <td>...</td>\n",
              "      <td>...</td>\n",
              "      <td>...</td>\n",
              "    </tr>\n",
              "    <tr>\n",
              "      <th>264</th>\n",
              "      <td>Ukraine</td>\n",
              "      <td>48.379400</td>\n",
              "      <td>31.165600</td>\n",
              "      <td>93</td>\n",
              "      <td>0</td>\n",
              "    </tr>\n",
              "    <tr>\n",
              "      <th>265</th>\n",
              "      <td>United Arab Emirates</td>\n",
              "      <td>23.424076</td>\n",
              "      <td>53.847818</td>\n",
              "      <td>68</td>\n",
              "      <td>0</td>\n",
              "    </tr>\n",
              "    <tr>\n",
              "      <th>284</th>\n",
              "      <td>Venezuela</td>\n",
              "      <td>6.423800</td>\n",
              "      <td>-66.589700</td>\n",
              "      <td>7</td>\n",
              "      <td>0</td>\n",
              "    </tr>\n",
              "    <tr>\n",
              "      <th>285</th>\n",
              "      <td>Vietnam</td>\n",
              "      <td>14.058324</td>\n",
              "      <td>108.277199</td>\n",
              "      <td>12</td>\n",
              "      <td>0</td>\n",
              "    </tr>\n",
              "    <tr>\n",
              "      <th>289</th>\n",
              "      <td>Zambia</td>\n",
              "      <td>-13.133897</td>\n",
              "      <td>27.849332</td>\n",
              "      <td>181</td>\n",
              "      <td>2</td>\n",
              "    </tr>\n",
              "  </tbody>\n",
              "</table>\n",
              "<p>67 rows × 5 columns</p>\n",
              "</div>\n",
              "      <button class=\"colab-df-convert\" onclick=\"convertToInteractive('df-0bec7c02-e833-485d-9028-439a5920c08f')\"\n",
              "              title=\"Convert this dataframe to an interactive table.\"\n",
              "              style=\"display:none;\">\n",
              "        \n",
              "  <svg xmlns=\"http://www.w3.org/2000/svg\" height=\"24px\"viewBox=\"0 0 24 24\"\n",
              "       width=\"24px\">\n",
              "    <path d=\"M0 0h24v24H0V0z\" fill=\"none\"/>\n",
              "    <path d=\"M18.56 5.44l.94 2.06.94-2.06 2.06-.94-2.06-.94-.94-2.06-.94 2.06-2.06.94zm-11 1L8.5 8.5l.94-2.06 2.06-.94-2.06-.94L8.5 2.5l-.94 2.06-2.06.94zm10 10l.94 2.06.94-2.06 2.06-.94-2.06-.94-.94-2.06-.94 2.06-2.06.94z\"/><path d=\"M17.41 7.96l-1.37-1.37c-.4-.4-.92-.59-1.43-.59-.52 0-1.04.2-1.43.59L10.3 9.45l-7.72 7.72c-.78.78-.78 2.05 0 2.83L4 21.41c.39.39.9.59 1.41.59.51 0 1.02-.2 1.41-.59l7.78-7.78 2.81-2.81c.8-.78.8-2.07 0-2.86zM5.41 20L4 18.59l7.72-7.72 1.47 1.35L5.41 20z\"/>\n",
              "  </svg>\n",
              "      </button>\n",
              "      \n",
              "  <style>\n",
              "    .colab-df-container {\n",
              "      display:flex;\n",
              "      flex-wrap:wrap;\n",
              "      gap: 12px;\n",
              "    }\n",
              "\n",
              "    .colab-df-convert {\n",
              "      background-color: #E8F0FE;\n",
              "      border: none;\n",
              "      border-radius: 50%;\n",
              "      cursor: pointer;\n",
              "      display: none;\n",
              "      fill: #1967D2;\n",
              "      height: 32px;\n",
              "      padding: 0 0 0 0;\n",
              "      width: 32px;\n",
              "    }\n",
              "\n",
              "    .colab-df-convert:hover {\n",
              "      background-color: #E2EBFA;\n",
              "      box-shadow: 0px 1px 2px rgba(60, 64, 67, 0.3), 0px 1px 3px 1px rgba(60, 64, 67, 0.15);\n",
              "      fill: #174EA6;\n",
              "    }\n",
              "\n",
              "    [theme=dark] .colab-df-convert {\n",
              "      background-color: #3B4455;\n",
              "      fill: #D2E3FC;\n",
              "    }\n",
              "\n",
              "    [theme=dark] .colab-df-convert:hover {\n",
              "      background-color: #434B5C;\n",
              "      box-shadow: 0px 1px 3px 1px rgba(0, 0, 0, 0.15);\n",
              "      filter: drop-shadow(0px 1px 2px rgba(0, 0, 0, 0.3));\n",
              "      fill: #FFFFFF;\n",
              "    }\n",
              "  </style>\n",
              "\n",
              "      <script>\n",
              "        const buttonEl =\n",
              "          document.querySelector('#df-0bec7c02-e833-485d-9028-439a5920c08f button.colab-df-convert');\n",
              "        buttonEl.style.display =\n",
              "          google.colab.kernel.accessAllowed ? 'block' : 'none';\n",
              "\n",
              "        async function convertToInteractive(key) {\n",
              "          const element = document.querySelector('#df-0bec7c02-e833-485d-9028-439a5920c08f');\n",
              "          const dataTable =\n",
              "            await google.colab.kernel.invokeFunction('convertToInteractive',\n",
              "                                                     [key], {});\n",
              "          if (!dataTable) return;\n",
              "\n",
              "          const docLinkHtml = 'Like what you see? Visit the ' +\n",
              "            '<a target=\"_blank\" href=https://colab.research.google.com/notebooks/data_table.ipynb>data table notebook</a>'\n",
              "            + ' to learn more about interactive tables.';\n",
              "          element.innerHTML = '';\n",
              "          dataTable['output_type'] = 'display_data';\n",
              "          await google.colab.output.renderOutput(dataTable, element);\n",
              "          const docLink = document.createElement('div');\n",
              "          docLink.innerHTML = docLinkHtml;\n",
              "          element.appendChild(docLink);\n",
              "        }\n",
              "      </script>\n",
              "    </div>\n",
              "  </div>\n",
              "  "
            ]
          },
          "metadata": {},
          "execution_count": 168
        }
      ]
    },
    {
      "cell_type": "code",
      "source": [
        "# Оставляем только данные по заболевшим\n",
        "day_kmean_z = day_kmean_o[['Заболевшие на 28.02.2023']]\n",
        "#day_kmean_z"
      ],
      "metadata": {
        "id": "ydGJyNNUAY9S"
      },
      "execution_count": null,
      "outputs": []
    },
    {
      "cell_type": "code",
      "source": [
        "import matplotlib.pyplot as plt\n",
        "from sklearn.cluster import KMeans\n",
        "from sklearn.preprocessing import StandardScaler"
      ],
      "metadata": {
        "id": "75Co-t77hPMl"
      },
      "execution_count": null,
      "outputs": []
    },
    {
      "cell_type": "code",
      "source": [
        "sc = StandardScaler()"
      ],
      "metadata": {
        "id": "r55_DtjWhPvp"
      },
      "execution_count": null,
      "outputs": []
    },
    {
      "cell_type": "code",
      "source": [
        "# Масштабируем данные\n",
        "day_kmean_z = sc.fit_transform(day_kmean_z)\n",
        "day_kmean_z = pd.DataFrame(day_kmean_z)\n",
        "#day_kmean_z"
      ],
      "metadata": {
        "id": "jA3IsLgliZyp"
      },
      "execution_count": null,
      "outputs": []
    },
    {
      "cell_type": "code",
      "source": [
        "# Определяем кол-во кластеров по методу 'локтя'\n",
        "clast_z = []\n",
        "for i in range(1, 8):\n",
        "  kmean = KMeans(n_clusters=i)\n",
        "  kmean.fit(day_kmean_z)\n",
        "  clast_z.append(kmean.inertia_)\n",
        "plt.plot(range(1, 8), clast_z)\n",
        "plt.show()"
      ],
      "metadata": {
        "colab": {
          "base_uri": "https://localhost:8080/",
          "height": 268
        },
        "id": "Lk-X-hjgibuq",
        "outputId": "307f994e-fc12-4818-fddb-f9266b13fb51"
      },
      "execution_count": null,
      "outputs": [
        {
          "output_type": "display_data",
          "data": {
            "text/plain": [
              "<Figure size 432x288 with 1 Axes>"
            ],
            "image/png": "[encoded data removed]"
          },
          "metadata": {
            "needs_background": "light"
          }
        }
      ]
    },
    {
      "cell_type": "code",
      "source": [
        "import scipy.cluster.hierarchy as sch"
      ],
      "metadata": {
        "id": "6f9cV_TjI01h"
      },
      "execution_count": null,
      "outputs": []
    },
    {
      "cell_type": "code",
      "source": [
        "# Проверим кол-во кластеров на графике с помощью дендрограммы\n",
        "Z = sch.linkage(day_kmean_z, method='ward')\n",
        "plt.figure()\n",
        "dn = sch.dendrogram(Z)\n",
        "plt.show()"
      ],
      "metadata": {
        "colab": {
          "base_uri": "https://localhost:8080/",
          "height": 263
        },
        "id": "i3zEH0WGIvLN",
        "outputId": "8e3d2b06-4321-47ec-f285-b63097ffbda6"
      },
      "execution_count": null,
      "outputs": [
        {
          "output_type": "display_data",
          "data": {
            "text/plain": [
              "<Figure size 432x288 with 1 Axes>"
            ],
            "image/png": "[encoded data removed]"
          },
          "metadata": {
            "needs_background": "light"
          }
        }
      ]
    },
    {
      "cell_type": "code",
      "source": [
        "# Определено 2 кластера\n",
        "kmean = KMeans(n_clusters=2)\n",
        "kmean.fit(day_kmean_z)"
      ],
      "metadata": {
        "colab": {
          "base_uri": "https://localhost:8080/"
        },
        "id": "CfhOFjPmjxLb",
        "outputId": "b2c3f01d-4770-4294-d07e-662814900810"
      },
      "execution_count": null,
      "outputs": [
        {
          "output_type": "execute_result",
          "data": {
            "text/plain": [
              "KMeans(n_clusters=2)"
            ]
          },
          "metadata": {},
          "execution_count": 176
        }
      ]
    },
    {
      "cell_type": "code",
      "source": [
        "kmean.predict(day_kmean_z)"
      ],
      "metadata": {
        "colab": {
          "base_uri": "https://localhost:8080/"
        },
        "id": "DXbpKvHNnKpT",
        "outputId": "cbe51ef5-fe8a-4fff-8726-a090dd638d60"
      },
      "execution_count": null,
      "outputs": [
        {
          "output_type": "execute_result",
          "data": {
            "text/plain": [
              "array([0, 0, 0, 0, 0, 0, 0, 1, 0, 0, 0, 0, 0, 0, 0, 0, 0, 0, 0, 0, 0, 0,\n",
              "       0, 1, 0, 0, 0, 0, 0, 0, 0, 1, 1, 0, 0, 0, 0, 0, 0, 0, 0, 0, 0, 0,\n",
              "       0, 0, 0, 0, 0, 0, 0, 1, 0, 0, 0, 0, 0, 0, 0, 0, 0, 1, 0, 0, 0, 0,\n",
              "       0], dtype=int32)"
            ]
          },
          "metadata": {},
          "execution_count": 177
        }
      ]
    },
    {
      "cell_type": "code",
      "source": [
        "# Распределение по кластерам (по заболеваемости 28.02.2023) и положение России\n",
        "plt.scatter(day_kmean_o['Широта'], day_kmean_o['Долгота'], c=kmean.labels_)\n",
        "plt.text(61.52401, 105.318756, 'Россия', c='red')\n",
        "plt.show()"
      ],
      "metadata": {
        "colab": {
          "base_uri": "https://localhost:8080/",
          "height": 269
        },
        "id": "VuK8EuS2j4bX",
        "outputId": "95da3ec8-ee3a-48d5-a916-242d4208ac96"
      },
      "execution_count": null,
      "outputs": [
        {
          "output_type": "display_data",
          "data": {
            "text/plain": [
              "<Figure size 432x288 with 1 Axes>"
            ],
            "image/png": "[encoded data removed]"
          },
          "metadata": {
            "needs_background": "light"
          }
        }
      ]
    },
    {
      "cell_type": "code",
      "source": [
        "# Координаты данных по России\n",
        "rus = day_kmean_o.loc[day_kmean_o['Страна'] == 'Russia']\n",
        "rus"
      ],
      "metadata": {
        "colab": {
          "base_uri": "https://localhost:8080/",
          "height": 81
        },
        "id": "V5P8yC46ofrR",
        "outputId": "bcb2cd27-067d-4975-951b-a87ec6931a65"
      },
      "execution_count": null,
      "outputs": [
        {
          "output_type": "execute_result",
          "data": {
            "text/plain": [
              "     Страна    Широта     Долгота  Заболевшие на 28.02.2023  \\\n",
              "223  Russia  61.52401  105.318756                      9660   \n",
              "\n",
              "     Умершие на 28.02.2023  \n",
              "223                     35  "
            ],
            "text/html": [
              "\n",
              "  <div id=\"df-30f8bb96-70e6-4b25-ad8a-9c767025841c\">\n",
              "    <div class=\"colab-df-container\">\n",
              "      <div>\n",
              "<style scoped>\n",
              "    .dataframe tbody tr th:only-of-type {\n",
              "        vertical-align: middle;\n",
              "    }\n",
              "\n",
              "    .dataframe tbody tr th {\n",
              "        vertical-align: top;\n",
              "    }\n",
              "\n",
              "    .dataframe thead th {\n",
              "        text-align: right;\n",
              "    }\n",
              "</style>\n",
              "<table border=\"1\" class=\"dataframe\">\n",
              "  <thead>\n",
              "    <tr style=\"text-align: right;\">\n",
              "      <th></th>\n",
              "      <th>Страна</th>\n",
              "      <th>Широта</th>\n",
              "      <th>Долгота</th>\n",
              "      <th>Заболевшие на 28.02.2023</th>\n",
              "      <th>Умершие на 28.02.2023</th>\n",
              "    </tr>\n",
              "  </thead>\n",
              "  <tbody>\n",
              "    <tr>\n",
              "      <th>223</th>\n",
              "      <td>Russia</td>\n",
              "      <td>61.52401</td>\n",
              "      <td>105.318756</td>\n",
              "      <td>9660</td>\n",
              "      <td>35</td>\n",
              "    </tr>\n",
              "  </tbody>\n",
              "</table>\n",
              "</div>\n",
              "      <button class=\"colab-df-convert\" onclick=\"convertToInteractive('df-30f8bb96-70e6-4b25-ad8a-9c767025841c')\"\n",
              "              title=\"Convert this dataframe to an interactive table.\"\n",
              "              style=\"display:none;\">\n",
              "        \n",
              "  <svg xmlns=\"http://www.w3.org/2000/svg\" height=\"24px\"viewBox=\"0 0 24 24\"\n",
              "       width=\"24px\">\n",
              "    <path d=\"M0 0h24v24H0V0z\" fill=\"none\"/>\n",
              "    <path d=\"M18.56 5.44l.94 2.06.94-2.06 2.06-.94-2.06-.94-.94-2.06-.94 2.06-2.06.94zm-11 1L8.5 8.5l.94-2.06 2.06-.94-2.06-.94L8.5 2.5l-.94 2.06-2.06.94zm10 10l.94 2.06.94-2.06 2.06-.94-2.06-.94-.94-2.06-.94 2.06-2.06.94z\"/><path d=\"M17.41 7.96l-1.37-1.37c-.4-.4-.92-.59-1.43-.59-.52 0-1.04.2-1.43.59L10.3 9.45l-7.72 7.72c-.78.78-.78 2.05 0 2.83L4 21.41c.39.39.9.59 1.41.59.51 0 1.02-.2 1.41-.59l7.78-7.78 2.81-2.81c.8-.78.8-2.07 0-2.86zM5.41 20L4 18.59l7.72-7.72 1.47 1.35L5.41 20z\"/>\n",
              "  </svg>\n",
              "      </button>\n",
              "      \n",
              "  <style>\n",
              "    .colab-df-container {\n",
              "      display:flex;\n",
              "      flex-wrap:wrap;\n",
              "      gap: 12px;\n",
              "    }\n",
              "\n",
              "    .colab-df-convert {\n",
              "      background-color: #E8F0FE;\n",
              "      border: none;\n",
              "      border-radius: 50%;\n",
              "      cursor: pointer;\n",
              "      display: none;\n",
              "      fill: #1967D2;\n",
              "      height: 32px;\n",
              "      padding: 0 0 0 0;\n",
              "      width: 32px;\n",
              "    }\n",
              "\n",
              "    .colab-df-convert:hover {\n",
              "      background-color: #E2EBFA;\n",
              "      box-shadow: 0px 1px 2px rgba(60, 64, 67, 0.3), 0px 1px 3px 1px rgba(60, 64, 67, 0.15);\n",
              "      fill: #174EA6;\n",
              "    }\n",
              "\n",
              "    [theme=dark] .colab-df-convert {\n",
              "      background-color: #3B4455;\n",
              "      fill: #D2E3FC;\n",
              "    }\n",
              "\n",
              "    [theme=dark] .colab-df-convert:hover {\n",
              "      background-color: #434B5C;\n",
              "      box-shadow: 0px 1px 3px 1px rgba(0, 0, 0, 0.15);\n",
              "      filter: drop-shadow(0px 1px 2px rgba(0, 0, 0, 0.3));\n",
              "      fill: #FFFFFF;\n",
              "    }\n",
              "  </style>\n",
              "\n",
              "      <script>\n",
              "        const buttonEl =\n",
              "          document.querySelector('#df-30f8bb96-70e6-4b25-ad8a-9c767025841c button.colab-df-convert');\n",
              "        buttonEl.style.display =\n",
              "          google.colab.kernel.accessAllowed ? 'block' : 'none';\n",
              "\n",
              "        async function convertToInteractive(key) {\n",
              "          const element = document.querySelector('#df-30f8bb96-70e6-4b25-ad8a-9c767025841c');\n",
              "          const dataTable =\n",
              "            await google.colab.kernel.invokeFunction('convertToInteractive',\n",
              "                                                     [key], {});\n",
              "          if (!dataTable) return;\n",
              "\n",
              "          const docLinkHtml = 'Like what you see? Visit the ' +\n",
              "            '<a target=\"_blank\" href=https://colab.research.google.com/notebooks/data_table.ipynb>data table notebook</a>'\n",
              "            + ' to learn more about interactive tables.';\n",
              "          element.innerHTML = '';\n",
              "          dataTable['output_type'] = 'display_data';\n",
              "          await google.colab.output.renderOutput(dataTable, element);\n",
              "          const docLink = document.createElement('div');\n",
              "          docLink.innerHTML = docLinkHtml;\n",
              "          element.appendChild(docLink);\n",
              "        }\n",
              "      </script>\n",
              "    </div>\n",
              "  </div>\n",
              "  "
            ]
          },
          "metadata": {},
          "execution_count": 179
        }
      ]
    },
    {
      "cell_type": "markdown",
      "source": [
        "*Вывод: Россия оказалась в кластере с самым большим кол-вом заболевших*\n",
        "\n",
        "---\n",
        "\n",
        "\n",
        "\n",
        "---\n",
        "\n"
      ],
      "metadata": {
        "id": "egjoM6ZY90cf"
      }
    },
    {
      "cell_type": "markdown",
      "source": [
        "###Кластеризация по **умершим** 28.02.2023"
      ],
      "metadata": {
        "id": "JTxk01Vx-3az"
      }
    },
    {
      "cell_type": "code",
      "source": [
        "# Убираем данные со значением  - 0\n",
        "day_kmean_d = day.drop(np.where(day['Умершие на 28.02.2023'] == 0)[0])\n",
        "#day_kmean_d"
      ],
      "metadata": {
        "id": "jMC5cV8G_lfI"
      },
      "execution_count": null,
      "outputs": []
    },
    {
      "cell_type": "code",
      "source": [
        "# Оставляем только данные по умершим\n",
        "day_kmean_c = day_kmean_d[['Умершие на 28.02.2023']]\n",
        "#day_kmean_c"
      ],
      "metadata": {
        "id": "dU6hFZjG-_up"
      },
      "execution_count": null,
      "outputs": []
    },
    {
      "cell_type": "code",
      "source": [
        "sc = StandardScaler()"
      ],
      "metadata": {
        "id": "OY7cZMhE_V9D"
      },
      "execution_count": null,
      "outputs": []
    },
    {
      "cell_type": "code",
      "source": [
        "# Масштабируем данные\n",
        "day_kmean_c = sc.fit_transform(day_kmean_c)\n",
        "day_kmean_c = pd.DataFrame(day_kmean_c)\n",
        "#day_kmean_c"
      ],
      "metadata": {
        "id": "3-FCfitb_YnF"
      },
      "execution_count": null,
      "outputs": []
    },
    {
      "cell_type": "code",
      "source": [
        "# Определяем кол-во кластеров по методу 'локтя'\n",
        "clast_c = []\n",
        "for i in range(1, 8):\n",
        "  kmean = KMeans(n_clusters=i)\n",
        "  kmean.fit(day_kmean_c)\n",
        "  clast_c.append(kmean.inertia_)\n",
        "plt.plot(range(1, 8), clast_c)\n",
        "plt.show()"
      ],
      "metadata": {
        "colab": {
          "base_uri": "https://localhost:8080/",
          "height": 265
        },
        "id": "dJDutJtOATW1",
        "outputId": "964f0bfe-6263-4d17-a0e7-bb4282467841"
      },
      "execution_count": null,
      "outputs": [
        {
          "output_type": "display_data",
          "data": {
            "text/plain": [
              "<Figure size 432x288 with 1 Axes>"
            ],
            "image/png": "[encoded data removed]"
          },
          "metadata": {
            "needs_background": "light"
          }
        }
      ]
    },
    {
      "cell_type": "code",
      "source": [
        "# Проверим кол-во кластеров на графике с помощью дендрограммы\n",
        "Z = sch.linkage(day_kmean_c, method='ward')\n",
        "plt.figure()\n",
        "dn = sch.dendrogram(Z)\n",
        "plt.show()"
      ],
      "metadata": {
        "colab": {
          "base_uri": "https://localhost:8080/",
          "height": 269
        },
        "id": "rgV-Gi5BATtn",
        "outputId": "d264c57c-d4f9-4b92-8bd4-54e9c6b8afd3"
      },
      "execution_count": null,
      "outputs": [
        {
          "output_type": "display_data",
          "data": {
            "text/plain": [
              "<Figure size 432x288 with 1 Axes>"
            ],
            "image/png": "[encoded data removed]"
          },
          "metadata": {
            "needs_background": "light"
          }
        }
      ]
    },
    {
      "cell_type": "code",
      "source": [
        "# Определено 2 кластера\n",
        "kmean = KMeans(n_clusters=2)\n",
        "kmean.fit(day_kmean_c)"
      ],
      "metadata": {
        "colab": {
          "base_uri": "https://localhost:8080/"
        },
        "id": "mYOH0GjkAYub",
        "outputId": "adea4f0c-a697-471b-b082-dca2ca459134"
      },
      "execution_count": null,
      "outputs": [
        {
          "output_type": "execute_result",
          "data": {
            "text/plain": [
              "KMeans(n_clusters=2)"
            ]
          },
          "metadata": {},
          "execution_count": 186
        }
      ]
    },
    {
      "cell_type": "code",
      "source": [
        "kmean.predict(day_kmean_c)"
      ],
      "metadata": {
        "colab": {
          "base_uri": "https://localhost:8080/"
        },
        "id": "25Z3br4uAmih",
        "outputId": "6e661671-bcc5-4b87-bc06-1c64289ee3ad"
      },
      "execution_count": null,
      "outputs": [
        {
          "output_type": "execute_result",
          "data": {
            "text/plain": [
              "array([0, 0, 0, 0, 0, 0, 0, 0, 0, 0, 0, 0, 0, 0, 0, 0, 0, 0, 0, 0, 0, 0,\n",
              "       0, 0, 0, 0, 0, 0, 0, 0, 0, 0, 1, 0], dtype=int32)"
            ]
          },
          "metadata": {},
          "execution_count": 187
        }
      ]
    },
    {
      "cell_type": "code",
      "source": [
        "# Распределение по кластерам (по умершим 28.02.2023) и положение России\n",
        "plt.scatter(day_kmean_d['Широта'], day_kmean_d['Долгота'], c=kmean.labels_)\n",
        "plt.text(61.52401, 105.318756, 'Россия', c='red')\n",
        "plt.show()"
      ],
      "metadata": {
        "colab": {
          "base_uri": "https://localhost:8080/",
          "height": 269
        },
        "id": "1VY0VtmFAs2X",
        "outputId": "4565d31c-24b7-43e4-cd92-6d03cbdacfe1"
      },
      "execution_count": null,
      "outputs": [
        {
          "output_type": "display_data",
          "data": {
            "text/plain": [
              "<Figure size 432x288 with 1 Axes>"
            ],
            "image/png": "[encoded data removed]"
          },
          "metadata": {
            "needs_background": "light"
          }
        }
      ]
    },
    {
      "cell_type": "markdown",
      "source": [
        "*Вывод: Россия оказалась в кластере с 'обычным' числом умерших*\n",
        "\n",
        "---\n",
        "\n",
        "\n",
        "\n",
        "---\n",
        "\n"
      ],
      "metadata": {
        "id": "V9YnqhFKA4_o"
      }
    },
    {
      "cell_type": "markdown",
      "source": [
        "# Кластеризация за 1 месяц (феврать 2023)\n",
        "\n",
        "---\n",
        "\n"
      ],
      "metadata": {
        "id": "3YT6njuODDOc"
      }
    },
    {
      "cell_type": "markdown",
      "source": [
        "### Подготовка данных"
      ],
      "metadata": {
        "id": "8lyuqymN_K_4"
      }
    },
    {
      "cell_type": "code",
      "source": [
        "def monthClaster(n):\n",
        "  if n == 1:\n",
        "    # Данные по заболевшим\n",
        "    dfMonth = pd.read_csv('/content/gdrive/MyDrive/Colab Notebooks/Task_15/time_series_covid19_confirmed_global.csv')\n",
        "  else:\n",
        "    # Данные по умершим\n",
        "    dfMonth = pd.read_csv('/content/gdrive/MyDrive/Colab Notebooks/Task_15/time_series_covid19_deaths_global.csv')\n",
        "  df = dfMonth.loc[:, '1/31/23':'2/28/23']\n",
        "  # Вычисляем кол-во заразившихся/умерших в конкретный день\n",
        "  i = 28\n",
        "  while True:\n",
        "    if i == 0:\n",
        "      break\n",
        "    elif i > 1:\n",
        "      data = df[f'2/{i}/23'] - df[f'2/{i-1}/23']\n",
        "      df[f'2/{i}/23'] = data\n",
        "\n",
        "    elif i == 1:\n",
        "      data = df['2/1/23'] - df['1/31/23']\n",
        "      df[f'2/{i}/23'] = data\n",
        "    i -= 1\n",
        "  # Формирование итоговой таблицы\n",
        "  day = dfMonth[['Lat', 'Long']]\n",
        "  month = day.join(df)\n",
        "  month.drop(columns=month.columns [2], axis= 1 , inplace= True )\n",
        "\n",
        "  return month\n",
        "\n",
        "\n",
        "months_sick = monthClaster(1)\n",
        "months_death = monthClaster(2)"
      ],
      "metadata": {
        "id": "zONvMQm2U4hU"
      },
      "execution_count": null,
      "outputs": []
    },
    {
      "cell_type": "markdown",
      "source": [
        "###Кластеризация по **заболевшим** за февраль 2023\n",
        "\n",
        "---\n",
        "\n"
      ],
      "metadata": {
        "id": "ddScZTzG-HGV"
      }
    },
    {
      "cell_type": "code",
      "source": [
        "# Таблица по заболевшим за феврать 2023\n",
        "months_sickDate = months_sick.loc[:, '2/1/23':'2/28/23']"
      ],
      "metadata": {
        "id": "WV7b3yEoXaHw"
      },
      "execution_count": null,
      "outputs": []
    },
    {
      "cell_type": "code",
      "source": [
        "months_sickDate = abs(months_sickDate)\n",
        "#months_sickDate"
      ],
      "metadata": {
        "id": "cUN68dlNvQR8"
      },
      "execution_count": null,
      "outputs": []
    },
    {
      "cell_type": "code",
      "source": [
        "import matplotlib.pyplot as plt\n",
        "from sklearn.cluster import KMeans\n",
        "from sklearn.preprocessing import StandardScaler\n",
        "import scipy.cluster.hierarchy as sch"
      ],
      "metadata": {
        "id": "zLqKp1OYqQW6"
      },
      "execution_count": null,
      "outputs": []
    },
    {
      "cell_type": "code",
      "source": [
        "sc = StandardScaler()"
      ],
      "metadata": {
        "id": "mvBHDKLxq-4B"
      },
      "execution_count": null,
      "outputs": []
    },
    {
      "cell_type": "code",
      "source": [
        "month_kmean_z = sc.fit_transform(months_sickDate)\n",
        "month_kmean_z = pd.DataFrame(month_kmean_z)\n",
        "month_kmean_z.fillna(0)"
      ],
      "metadata": {
        "colab": {
          "base_uri": "https://localhost:8080/",
          "height": 487
        },
        "id": "F0s1mpncqRKy",
        "outputId": "42d8ca55-a36b-471d-ea60-877b9a24913f"
      },
      "execution_count": null,
      "outputs": [
        {
          "output_type": "execute_result",
          "data": {
            "text/plain": [
              "           0         1         2         3         4         5         6   \\\n",
              "0   -0.128498 -0.130995 -0.179250 -0.108025 -0.122330 -0.162551 -0.154585   \n",
              "1   -0.128121 -0.148982 -0.175774 -0.124529 -0.121925 -0.191705 -0.158528   \n",
              "2   -0.128498 -0.150495 -0.177512 -0.124880 -0.124758 -0.191326 -0.157600   \n",
              "3   -0.129377 -0.150663 -0.176860 -0.124880 -0.124758 -0.191705 -0.158528   \n",
              "4   -0.129377 -0.150663 -0.179250 -0.124880 -0.124758 -0.191705 -0.158528   \n",
              "..        ...       ...       ...       ...       ...       ...       ...   \n",
              "284 -0.129377 -0.150663 -0.179250 -0.124880 -0.124758 -0.191705 -0.158528   \n",
              "285 -0.129377 -0.150663 -0.179250 -0.124880 -0.124758 -0.191705 -0.158528   \n",
              "286 -0.129377 -0.150663 -0.179250 -0.124880 -0.124758 -0.191705 -0.158528   \n",
              "287 -0.106650 -0.097373 -0.149701 -0.063078 -0.124758 -0.147406 -0.158528   \n",
              "288 -0.039221 -0.150663 -0.179250 -0.124880 -0.124758 -0.191705 -0.158528   \n",
              "\n",
              "           7         8         9   ...        18        19        20  \\\n",
              "0   -0.127503 -0.157952 -0.108034  ... -0.149582 -0.150280 -0.140255   \n",
              "1   -0.134175 -0.156717 -0.164780  ... -0.157236 -0.177190 -0.141916   \n",
              "2   -0.135372 -0.157422 -0.164780  ... -0.162156 -0.177190 -0.146426   \n",
              "3   -0.136056 -0.156187 -0.164780  ... -0.162156 -0.177788 -0.146901   \n",
              "4   -0.136056 -0.157952 -0.164780  ... -0.162156 -0.177788 -0.146901   \n",
              "..        ...       ...       ...  ...       ...       ...       ...   \n",
              "284 -0.136056 -0.157952 -0.164780  ... -0.162156 -0.177788 -0.146901   \n",
              "285 -0.136056 -0.157952 -0.164780  ... -0.162156 -0.177788 -0.146901   \n",
              "286 -0.136056 -0.157952 -0.164780  ... -0.162156 -0.177788 -0.146901   \n",
              "287 -0.093976 -0.126545 -0.164780  ... -0.162156  0.065601 -0.133134   \n",
              "288 -0.006223 -0.157952 -0.164780  ... -0.162156 -0.177788 -0.146901   \n",
              "\n",
              "           21        22        23        24        25        26        27  \n",
              "0   -0.124425 -0.171715 -0.181652 -0.120529 -0.139838 -0.154092 -0.164678  \n",
              "1   -0.124425 -0.177616 -0.183152 -0.119667 -0.156067 -0.166403 -0.165746  \n",
              "2   -0.123985 -0.179504 -0.185777 -0.131727 -0.158890 -0.167172 -0.169305  \n",
              "3   -0.124425 -0.179741 -0.187277 -0.134311 -0.159595 -0.167172 -0.169661  \n",
              "4   -0.121342 -0.179741 -0.187277 -0.134311 -0.159595 -0.147937 -0.169661  \n",
              "..        ...       ...       ...       ...       ...       ...       ...  \n",
              "284 -0.124425 -0.179741 -0.187277 -0.134311 -0.159595 -0.167172 -0.169661  \n",
              "285 -0.124425 -0.179741 -0.187277 -0.134311 -0.159595 -0.167172 -0.169661  \n",
              "286 -0.124425 -0.179741 -0.187277 -0.134311 -0.159595 -0.167172 -0.169661  \n",
              "287 -0.117232 -0.179741 -0.187277 -0.134311 -0.159595 -0.167172 -0.105242  \n",
              "288 -0.083465 -0.179741 -0.187277 -0.134311 -0.159595 -0.167172 -0.169661  \n",
              "\n",
              "[289 rows x 28 columns]"
            ],
            "text/html": [
              "\n",
              "  <div id=\"df-a618b59e-5e42-4dac-9484-f4f9f3164ae9\">\n",
              "    <div class=\"colab-df-container\">\n",
              "      <div>\n",
              "<style scoped>\n",
              "    .dataframe tbody tr th:only-of-type {\n",
              "        vertical-align: middle;\n",
              "    }\n",
              "\n",
              "    .dataframe tbody tr th {\n",
              "        vertical-align: top;\n",
              "    }\n",
              "\n",
              "    .dataframe thead th {\n",
              "        text-align: right;\n",
              "    }\n",
              "</style>\n",
              "<table border=\"1\" class=\"dataframe\">\n",
              "  <thead>\n",
              "    <tr style=\"text-align: right;\">\n",
              "      <th></th>\n",
              "      <th>0</th>\n",
              "      <th>1</th>\n",
              "      <th>2</th>\n",
              "      <th>3</th>\n",
              "      <th>4</th>\n",
              "      <th>5</th>\n",
              "      <th>6</th>\n",
              "      <th>7</th>\n",
              "      <th>8</th>\n",
              "      <th>9</th>\n",
              "      <th>...</th>\n",
              "      <th>18</th>\n",
              "      <th>19</th>\n",
              "      <th>20</th>\n",
              "      <th>21</th>\n",
              "      <th>22</th>\n",
              "      <th>23</th>\n",
              "      <th>24</th>\n",
              "      <th>25</th>\n",
              "      <th>26</th>\n",
              "      <th>27</th>\n",
              "    </tr>\n",
              "  </thead>\n",
              "  <tbody>\n",
              "    <tr>\n",
              "      <th>0</th>\n",
              "      <td>-0.128498</td>\n",
              "      <td>-0.130995</td>\n",
              "      <td>-0.179250</td>\n",
              "      <td>-0.108025</td>\n",
              "      <td>-0.122330</td>\n",
              "      <td>-0.162551</td>\n",
              "      <td>-0.154585</td>\n",
              "      <td>-0.127503</td>\n",
              "      <td>-0.157952</td>\n",
              "      <td>-0.108034</td>\n",
              "      <td>...</td>\n",
              "      <td>-0.149582</td>\n",
              "      <td>-0.150280</td>\n",
              "      <td>-0.140255</td>\n",
              "      <td>-0.124425</td>\n",
              "      <td>-0.171715</td>\n",
              "      <td>-0.181652</td>\n",
              "      <td>-0.120529</td>\n",
              "      <td>-0.139838</td>\n",
              "      <td>-0.154092</td>\n",
              "      <td>-0.164678</td>\n",
              "    </tr>\n",
              "    <tr>\n",
              "      <th>1</th>\n",
              "      <td>-0.128121</td>\n",
              "      <td>-0.148982</td>\n",
              "      <td>-0.175774</td>\n",
              "      <td>-0.124529</td>\n",
              "      <td>-0.121925</td>\n",
              "      <td>-0.191705</td>\n",
              "      <td>-0.158528</td>\n",
              "      <td>-0.134175</td>\n",
              "      <td>-0.156717</td>\n",
              "      <td>-0.164780</td>\n",
              "      <td>...</td>\n",
              "      <td>-0.157236</td>\n",
              "      <td>-0.177190</td>\n",
              "      <td>-0.141916</td>\n",
              "      <td>-0.124425</td>\n",
              "      <td>-0.177616</td>\n",
              "      <td>-0.183152</td>\n",
              "      <td>-0.119667</td>\n",
              "      <td>-0.156067</td>\n",
              "      <td>-0.166403</td>\n",
              "      <td>-0.165746</td>\n",
              "    </tr>\n",
              "    <tr>\n",
              "      <th>2</th>\n",
              "      <td>-0.128498</td>\n",
              "      <td>-0.150495</td>\n",
              "      <td>-0.177512</td>\n",
              "      <td>-0.124880</td>\n",
              "      <td>-0.124758</td>\n",
              "      <td>-0.191326</td>\n",
              "      <td>-0.157600</td>\n",
              "      <td>-0.135372</td>\n",
              "      <td>-0.157422</td>\n",
              "      <td>-0.164780</td>\n",
              "      <td>...</td>\n",
              "      <td>-0.162156</td>\n",
              "      <td>-0.177190</td>\n",
              "      <td>-0.146426</td>\n",
              "      <td>-0.123985</td>\n",
              "      <td>-0.179504</td>\n",
              "      <td>-0.185777</td>\n",
              "      <td>-0.131727</td>\n",
              "      <td>-0.158890</td>\n",
              "      <td>-0.167172</td>\n",
              "      <td>-0.169305</td>\n",
              "    </tr>\n",
              "    <tr>\n",
              "      <th>3</th>\n",
              "      <td>-0.129377</td>\n",
              "      <td>-0.150663</td>\n",
              "      <td>-0.176860</td>\n",
              "      <td>-0.124880</td>\n",
              "      <td>-0.124758</td>\n",
              "      <td>-0.191705</td>\n",
              "      <td>-0.158528</td>\n",
              "      <td>-0.136056</td>\n",
              "      <td>-0.156187</td>\n",
              "      <td>-0.164780</td>\n",
              "      <td>...</td>\n",
              "      <td>-0.162156</td>\n",
              "      <td>-0.177788</td>\n",
              "      <td>-0.146901</td>\n",
              "      <td>-0.124425</td>\n",
              "      <td>-0.179741</td>\n",
              "      <td>-0.187277</td>\n",
              "      <td>-0.134311</td>\n",
              "      <td>-0.159595</td>\n",
              "      <td>-0.167172</td>\n",
              "      <td>-0.169661</td>\n",
              "    </tr>\n",
              "    <tr>\n",
              "      <th>4</th>\n",
              "      <td>-0.129377</td>\n",
              "      <td>-0.150663</td>\n",
              "      <td>-0.179250</td>\n",
              "      <td>-0.124880</td>\n",
              "      <td>-0.124758</td>\n",
              "      <td>-0.191705</td>\n",
              "      <td>-0.158528</td>\n",
              "      <td>-0.136056</td>\n",
              "      <td>-0.157952</td>\n",
              "      <td>-0.164780</td>\n",
              "      <td>...</td>\n",
              "      <td>-0.162156</td>\n",
              "      <td>-0.177788</td>\n",
              "      <td>-0.146901</td>\n",
              "      <td>-0.121342</td>\n",
              "      <td>-0.179741</td>\n",
              "      <td>-0.187277</td>\n",
              "      <td>-0.134311</td>\n",
              "      <td>-0.159595</td>\n",
              "      <td>-0.147937</td>\n",
              "      <td>-0.169661</td>\n",
              "    </tr>\n",
              "    <tr>\n",
              "      <th>...</th>\n",
              "      <td>...</td>\n",
              "      <td>...</td>\n",
              "      <td>...</td>\n",
              "      <td>...</td>\n",
              "      <td>...</td>\n",
              "      <td>...</td>\n",
              "      <td>...</td>\n",
              "      <td>...</td>\n",
              "      <td>...</td>\n",
              "      <td>...</td>\n",
              "      <td>...</td>\n",
              "      <td>...</td>\n",
              "      <td>...</td>\n",
              "      <td>...</td>\n",
              "      <td>...</td>\n",
              "      <td>...</td>\n",
              "      <td>...</td>\n",
              "      <td>...</td>\n",
              "      <td>...</td>\n",
              "      <td>...</td>\n",
              "      <td>...</td>\n",
              "    </tr>\n",
              "    <tr>\n",
              "      <th>284</th>\n",
              "      <td>-0.129377</td>\n",
              "      <td>-0.150663</td>\n",
              "      <td>-0.179250</td>\n",
              "      <td>-0.124880</td>\n",
              "      <td>-0.124758</td>\n",
              "      <td>-0.191705</td>\n",
              "      <td>-0.158528</td>\n",
              "      <td>-0.136056</td>\n",
              "      <td>-0.157952</td>\n",
              "      <td>-0.164780</td>\n",
              "      <td>...</td>\n",
              "      <td>-0.162156</td>\n",
              "      <td>-0.177788</td>\n",
              "      <td>-0.146901</td>\n",
              "      <td>-0.124425</td>\n",
              "      <td>-0.179741</td>\n",
              "      <td>-0.187277</td>\n",
              "      <td>-0.134311</td>\n",
              "      <td>-0.159595</td>\n",
              "      <td>-0.167172</td>\n",
              "      <td>-0.169661</td>\n",
              "    </tr>\n",
              "    <tr>\n",
              "      <th>285</th>\n",
              "      <td>-0.129377</td>\n",
              "      <td>-0.150663</td>\n",
              "      <td>-0.179250</td>\n",
              "      <td>-0.124880</td>\n",
              "      <td>-0.124758</td>\n",
              "      <td>-0.191705</td>\n",
              "      <td>-0.158528</td>\n",
              "      <td>-0.136056</td>\n",
              "      <td>-0.157952</td>\n",
              "      <td>-0.164780</td>\n",
              "      <td>...</td>\n",
              "      <td>-0.162156</td>\n",
              "      <td>-0.177788</td>\n",
              "      <td>-0.146901</td>\n",
              "      <td>-0.124425</td>\n",
              "      <td>-0.179741</td>\n",
              "      <td>-0.187277</td>\n",
              "      <td>-0.134311</td>\n",
              "      <td>-0.159595</td>\n",
              "      <td>-0.167172</td>\n",
              "      <td>-0.169661</td>\n",
              "    </tr>\n",
              "    <tr>\n",
              "      <th>286</th>\n",
              "      <td>-0.129377</td>\n",
              "      <td>-0.150663</td>\n",
              "      <td>-0.179250</td>\n",
              "      <td>-0.124880</td>\n",
              "      <td>-0.124758</td>\n",
              "      <td>-0.191705</td>\n",
              "      <td>-0.158528</td>\n",
              "      <td>-0.136056</td>\n",
              "      <td>-0.157952</td>\n",
              "      <td>-0.164780</td>\n",
              "      <td>...</td>\n",
              "      <td>-0.162156</td>\n",
              "      <td>-0.177788</td>\n",
              "      <td>-0.146901</td>\n",
              "      <td>-0.124425</td>\n",
              "      <td>-0.179741</td>\n",
              "      <td>-0.187277</td>\n",
              "      <td>-0.134311</td>\n",
              "      <td>-0.159595</td>\n",
              "      <td>-0.167172</td>\n",
              "      <td>-0.169661</td>\n",
              "    </tr>\n",
              "    <tr>\n",
              "      <th>287</th>\n",
              "      <td>-0.106650</td>\n",
              "      <td>-0.097373</td>\n",
              "      <td>-0.149701</td>\n",
              "      <td>-0.063078</td>\n",
              "      <td>-0.124758</td>\n",
              "      <td>-0.147406</td>\n",
              "      <td>-0.158528</td>\n",
              "      <td>-0.093976</td>\n",
              "      <td>-0.126545</td>\n",
              "      <td>-0.164780</td>\n",
              "      <td>...</td>\n",
              "      <td>-0.162156</td>\n",
              "      <td>0.065601</td>\n",
              "      <td>-0.133134</td>\n",
              "      <td>-0.117232</td>\n",
              "      <td>-0.179741</td>\n",
              "      <td>-0.187277</td>\n",
              "      <td>-0.134311</td>\n",
              "      <td>-0.159595</td>\n",
              "      <td>-0.167172</td>\n",
              "      <td>-0.105242</td>\n",
              "    </tr>\n",
              "    <tr>\n",
              "      <th>288</th>\n",
              "      <td>-0.039221</td>\n",
              "      <td>-0.150663</td>\n",
              "      <td>-0.179250</td>\n",
              "      <td>-0.124880</td>\n",
              "      <td>-0.124758</td>\n",
              "      <td>-0.191705</td>\n",
              "      <td>-0.158528</td>\n",
              "      <td>-0.006223</td>\n",
              "      <td>-0.157952</td>\n",
              "      <td>-0.164780</td>\n",
              "      <td>...</td>\n",
              "      <td>-0.162156</td>\n",
              "      <td>-0.177788</td>\n",
              "      <td>-0.146901</td>\n",
              "      <td>-0.083465</td>\n",
              "      <td>-0.179741</td>\n",
              "      <td>-0.187277</td>\n",
              "      <td>-0.134311</td>\n",
              "      <td>-0.159595</td>\n",
              "      <td>-0.167172</td>\n",
              "      <td>-0.169661</td>\n",
              "    </tr>\n",
              "  </tbody>\n",
              "</table>\n",
              "<p>289 rows × 28 columns</p>\n",
              "</div>\n",
              "      <button class=\"colab-df-convert\" onclick=\"convertToInteractive('df-a618b59e-5e42-4dac-9484-f4f9f3164ae9')\"\n",
              "              title=\"Convert this dataframe to an interactive table.\"\n",
              "              style=\"display:none;\">\n",
              "        \n",
              "  <svg xmlns=\"http://www.w3.org/2000/svg\" height=\"24px\"viewBox=\"0 0 24 24\"\n",
              "       width=\"24px\">\n",
              "    <path d=\"M0 0h24v24H0V0z\" fill=\"none\"/>\n",
              "    <path d=\"M18.56 5.44l.94 2.06.94-2.06 2.06-.94-2.06-.94-.94-2.06-.94 2.06-2.06.94zm-11 1L8.5 8.5l.94-2.06 2.06-.94-2.06-.94L8.5 2.5l-.94 2.06-2.06.94zm10 10l.94 2.06.94-2.06 2.06-.94-2.06-.94-.94-2.06-.94 2.06-2.06.94z\"/><path d=\"M17.41 7.96l-1.37-1.37c-.4-.4-.92-.59-1.43-.59-.52 0-1.04.2-1.43.59L10.3 9.45l-7.72 7.72c-.78.78-.78 2.05 0 2.83L4 21.41c.39.39.9.59 1.41.59.51 0 1.02-.2 1.41-.59l7.78-7.78 2.81-2.81c.8-.78.8-2.07 0-2.86zM5.41 20L4 18.59l7.72-7.72 1.47 1.35L5.41 20z\"/>\n",
              "  </svg>\n",
              "      </button>\n",
              "      \n",
              "  <style>\n",
              "    .colab-df-container {\n",
              "      display:flex;\n",
              "      flex-wrap:wrap;\n",
              "      gap: 12px;\n",
              "    }\n",
              "\n",
              "    .colab-df-convert {\n",
              "      background-color: #E8F0FE;\n",
              "      border: none;\n",
              "      border-radius: 50%;\n",
              "      cursor: pointer;\n",
              "      display: none;\n",
              "      fill: #1967D2;\n",
              "      height: 32px;\n",
              "      padding: 0 0 0 0;\n",
              "      width: 32px;\n",
              "    }\n",
              "\n",
              "    .colab-df-convert:hover {\n",
              "      background-color: #E2EBFA;\n",
              "      box-shadow: 0px 1px 2px rgba(60, 64, 67, 0.3), 0px 1px 3px 1px rgba(60, 64, 67, 0.15);\n",
              "      fill: #174EA6;\n",
              "    }\n",
              "\n",
              "    [theme=dark] .colab-df-convert {\n",
              "      background-color: #3B4455;\n",
              "      fill: #D2E3FC;\n",
              "    }\n",
              "\n",
              "    [theme=dark] .colab-df-convert:hover {\n",
              "      background-color: #434B5C;\n",
              "      box-shadow: 0px 1px 3px 1px rgba(0, 0, 0, 0.15);\n",
              "      filter: drop-shadow(0px 1px 2px rgba(0, 0, 0, 0.3));\n",
              "      fill: #FFFFFF;\n",
              "    }\n",
              "  </style>\n",
              "\n",
              "      <script>\n",
              "        const buttonEl =\n",
              "          document.querySelector('#df-a618b59e-5e42-4dac-9484-f4f9f3164ae9 button.colab-df-convert');\n",
              "        buttonEl.style.display =\n",
              "          google.colab.kernel.accessAllowed ? 'block' : 'none';\n",
              "\n",
              "        async function convertToInteractive(key) {\n",
              "          const element = document.querySelector('#df-a618b59e-5e42-4dac-9484-f4f9f3164ae9');\n",
              "          const dataTable =\n",
              "            await google.colab.kernel.invokeFunction('convertToInteractive',\n",
              "                                                     [key], {});\n",
              "          if (!dataTable) return;\n",
              "\n",
              "          const docLinkHtml = 'Like what you see? Visit the ' +\n",
              "            '<a target=\"_blank\" href=https://colab.research.google.com/notebooks/data_table.ipynb>data table notebook</a>'\n",
              "            + ' to learn more about interactive tables.';\n",
              "          element.innerHTML = '';\n",
              "          dataTable['output_type'] = 'display_data';\n",
              "          await google.colab.output.renderOutput(dataTable, element);\n",
              "          const docLink = document.createElement('div');\n",
              "          docLink.innerHTML = docLinkHtml;\n",
              "          element.appendChild(docLink);\n",
              "        }\n",
              "      </script>\n",
              "    </div>\n",
              "  </div>\n",
              "  "
            ]
          },
          "metadata": {},
          "execution_count": 194
        }
      ]
    },
    {
      "cell_type": "code",
      "source": [
        "clast_z = []\n",
        "for i in range(1, 20):\n",
        "  kmean = KMeans(n_clusters=i)\n",
        "  kmean.fit(month_kmean_z)\n",
        "  clast_z.append(kmean.inertia_)\n",
        "plt.plot(range(1, 20), clast_z)\n",
        "plt.show()"
      ],
      "metadata": {
        "colab": {
          "base_uri": "https://localhost:8080/",
          "height": 265
        },
        "id": "VePNIwuDqRQL",
        "outputId": "918b09ee-cd16-41cc-b518-e447f77f0fba"
      },
      "execution_count": null,
      "outputs": [
        {
          "output_type": "display_data",
          "data": {
            "text/plain": [
              "<Figure size 432x288 with 1 Axes>"
            ],
            "image/png": "[encoded data removed]"
          },
          "metadata": {
            "needs_background": "light"
          }
        }
      ]
    },
    {
      "cell_type": "code",
      "source": [
        "Z = sch.linkage(month_kmean_z, method='ward')\n",
        "plt.figure()\n",
        "dn = sch.dendrogram(Z)\n",
        "plt.show()"
      ],
      "metadata": {
        "colab": {
          "base_uri": "https://localhost:8080/",
          "height": 265
        },
        "id": "cG28zwsyqRUf",
        "outputId": "bb10c633-837a-478a-ec30-84b7579d6a5d"
      },
      "execution_count": null,
      "outputs": [
        {
          "output_type": "display_data",
          "data": {
            "text/plain": [
              "<Figure size 432x288 with 1 Axes>"
            ],
            "image/png": "[encoded data removed]"
          },
          "metadata": {
            "needs_background": "light"
          }
        }
      ]
    },
    {
      "cell_type": "code",
      "source": [
        "kmean = KMeans(n_clusters=4)\n",
        "kmean.fit(month_kmean_z)"
      ],
      "metadata": {
        "colab": {
          "base_uri": "https://localhost:8080/"
        },
        "id": "g0o60OVVqYMl",
        "outputId": "7808b7df-09ba-4d0a-991d-70a884226fde"
      },
      "execution_count": null,
      "outputs": [
        {
          "output_type": "execute_result",
          "data": {
            "text/plain": [
              "KMeans(n_clusters=4)"
            ]
          },
          "metadata": {},
          "execution_count": 197
        }
      ]
    },
    {
      "cell_type": "code",
      "source": [
        "kmean.predict(month_kmean_z)"
      ],
      "metadata": {
        "colab": {
          "base_uri": "https://localhost:8080/"
        },
        "id": "YO8BZOlYqYPk",
        "outputId": "ac2aab58-c63b-47de-cb35-5a23e3608fcf"
      },
      "execution_count": null,
      "outputs": [
        {
          "output_type": "execute_result",
          "data": {
            "text/plain": [
              "array([1, 1, 1, 1, 1, 1, 1, 1, 1, 1, 1, 1, 1, 1, 1, 1, 1, 1, 1, 1, 1, 1,\n",
              "       1, 1, 1, 1, 1, 1, 1, 1, 1, 0, 1, 1, 1, 1, 1, 1, 1, 1, 1, 1, 1, 1,\n",
              "       1, 1, 1, 1, 1, 1, 1, 1, 1, 1, 1, 1, 1, 1, 1, 1, 1, 1, 1, 1, 1, 1,\n",
              "       1, 1, 1, 1, 1, 1, 1, 1, 1, 1, 1, 1, 1, 1, 1, 1, 1, 1, 1, 1, 1, 1,\n",
              "       1, 1, 1, 1, 1, 1, 1, 1, 1, 1, 1, 1, 1, 1, 1, 1, 1, 1, 1, 1, 1, 1,\n",
              "       1, 1, 1, 1, 1, 1, 1, 1, 1, 1, 1, 1, 1, 1, 1, 1, 1, 1, 1, 1, 1, 1,\n",
              "       1, 1, 1, 0, 1, 1, 1, 1, 1, 1, 1, 1, 1, 1, 1, 1, 1, 1, 1, 1, 1, 1,\n",
              "       1, 1, 2, 1, 1, 1, 1, 1, 0, 1, 1, 1, 1, 1, 1, 1, 1, 1, 1, 1, 1, 1,\n",
              "       1, 1, 1, 1, 1, 1, 1, 1, 1, 1, 1, 1, 1, 1, 1, 1, 1, 1, 1, 1, 1, 1,\n",
              "       1, 1, 1, 1, 1, 1, 1, 1, 1, 1, 1, 1, 1, 1, 1, 1, 1, 1, 1, 1, 1, 1,\n",
              "       1, 0, 1, 1, 1, 1, 1, 1, 1, 1, 1, 1, 1, 1, 1, 1, 1, 1, 1, 1, 1, 1,\n",
              "       1, 1, 1, 1, 1, 1, 1, 2, 1, 1, 1, 1, 1, 1, 1, 1, 1, 1, 3, 1, 1, 1,\n",
              "       1, 1, 1, 1, 1, 1, 1, 1, 1, 1, 1, 1, 1, 1, 1, 1, 1, 1, 1, 1, 1, 1,\n",
              "       1, 1, 1], dtype=int32)"
            ]
          },
          "metadata": {},
          "execution_count": 198
        }
      ]
    },
    {
      "cell_type": "code",
      "source": [
        "# Распределение по кластерам (по заболеваемости за февраль 2023) и положение России\n",
        "plt.scatter(months_sick['Lat'], months_sick['Long'], c=kmean.labels_)\n",
        "plt.text(61.52401, 105.318756, 'Россия', c='red')\n",
        "plt.show()"
      ],
      "metadata": {
        "colab": {
          "base_uri": "https://localhost:8080/",
          "height": 265
        },
        "id": "vqn05gYcqYWk",
        "outputId": "a25c954b-a243-4dba-d4f4-3fea8040fc31"
      },
      "execution_count": null,
      "outputs": [
        {
          "output_type": "display_data",
          "data": {
            "text/plain": [
              "<Figure size 432x288 with 1 Axes>"
            ],
            "image/png": "[encoded data removed]"
          },
          "metadata": {
            "needs_background": "light"
          }
        }
      ]
    },
    {
      "cell_type": "markdown",
      "source": [
        "*Вывод: Россия оказалась в кластере с 'одним из самого большого кол-ва заболевших в феврале 2023*\n",
        "\n",
        "---\n",
        "\n",
        "\n",
        "\n",
        "---\n",
        "\n"
      ],
      "metadata": {
        "id": "yLWAtQHd3Uub"
      }
    },
    {
      "cell_type": "markdown",
      "source": [
        "###Кластеризация по **умершим** за февраль 2023"
      ],
      "metadata": {
        "id": "E2H_U8LY-_fY"
      }
    },
    {
      "cell_type": "code",
      "source": [
        "# Таблица по умершим за феврать 2023\n",
        "months_deathDate = months_death.loc[:, '2/1/23':'2/28/23']"
      ],
      "metadata": {
        "id": "vp4q7kCSleBT"
      },
      "execution_count": null,
      "outputs": []
    },
    {
      "cell_type": "code",
      "source": [
        "months_deathDate = abs(months_deathDate)\n",
        "#months_deathDate"
      ],
      "metadata": {
        "id": "OLhkneJrvnGr"
      },
      "execution_count": null,
      "outputs": []
    },
    {
      "cell_type": "code",
      "source": [
        "import matplotlib.pyplot as plt\n",
        "from sklearn.cluster import KMeans\n",
        "from sklearn.preprocessing import StandardScaler\n",
        "import scipy.cluster.hierarchy as sch"
      ],
      "metadata": {
        "id": "5dY5BBPkw00x"
      },
      "execution_count": null,
      "outputs": []
    },
    {
      "cell_type": "code",
      "source": [
        "sc = StandardScaler()"
      ],
      "metadata": {
        "id": "k_lr45wMw2sp"
      },
      "execution_count": null,
      "outputs": []
    },
    {
      "cell_type": "code",
      "source": [
        "month_kmean_z = sc.fit_transform(months_deathDate)\n",
        "month_kmean_z = pd.DataFrame(month_kmean_z)\n",
        "month_kmean_z.fillna(0)"
      ],
      "metadata": {
        "colab": {
          "base_uri": "https://localhost:8080/",
          "height": 487
        },
        "id": "91MbuB3Ew41L",
        "outputId": "acadefb4-c984-4ecd-c0af-48588abd4559"
      },
      "execution_count": null,
      "outputs": [
        {
          "output_type": "execute_result",
          "data": {
            "text/plain": [
              "           0         1         2         3         4         5         6   \\\n",
              "0   -0.113182 -0.003418 -0.166738 -0.054101  0.012806 -0.196608 -0.137123   \n",
              "1   -0.113182 -0.125202 -0.166738 -0.069638 -0.138257 -0.196608 -0.137123   \n",
              "2   -0.113182 -0.125202 -0.166738 -0.069638 -0.138257 -0.196608 -0.137123   \n",
              "3   -0.113182 -0.125202 -0.166738 -0.069638 -0.138257 -0.196608 -0.137123   \n",
              "4   -0.113182 -0.125202 -0.166738 -0.069638 -0.138257 -0.196608 -0.137123   \n",
              "..        ...       ...       ...       ...       ...       ...       ...   \n",
              "284 -0.113182 -0.125202 -0.166738 -0.069638 -0.138257 -0.196608 -0.137123   \n",
              "285 -0.113182 -0.125202 -0.166738 -0.069638 -0.138257 -0.196608 -0.137123   \n",
              "286 -0.113182 -0.125202 -0.166738 -0.069638 -0.138257 -0.196608 -0.137123   \n",
              "287 -0.100721 -0.125202 -0.145464 -0.069638 -0.138257 -0.196608 -0.137123   \n",
              "288 -0.038417 -0.125202 -0.166738 -0.069638 -0.138257 -0.196608 -0.137123   \n",
              "\n",
              "           7         8         9   ...        18        19        20  \\\n",
              "0   -0.103515 -0.132621 -0.150672  ... -0.138369 -0.226792 -0.122594   \n",
              "1   -0.103515 -0.132621 -0.150672  ... -0.138369 -0.226792 -0.122594   \n",
              "2   -0.103515 -0.132621 -0.150672  ... -0.138369 -0.226792 -0.122594   \n",
              "3   -0.103515 -0.132621 -0.150672  ... -0.138369 -0.226792 -0.122594   \n",
              "4   -0.103515 -0.132621 -0.150672  ... -0.138369 -0.226792 -0.122594   \n",
              "..        ...       ...       ...  ...       ...       ...       ...   \n",
              "284 -0.103515 -0.132621 -0.150672  ... -0.138369 -0.226792 -0.122594   \n",
              "285 -0.103515 -0.132621 -0.150672  ... -0.138369 -0.226792 -0.122594   \n",
              "286 -0.103515 -0.132621 -0.150672  ... -0.138369 -0.226792 -0.122594   \n",
              "287 -0.103515 -0.115818 -0.150672  ... -0.138369  0.118777 -0.077916   \n",
              "288 -0.088006 -0.132621 -0.150672  ... -0.138369 -0.226792 -0.122594   \n",
              "\n",
              "           21        22        23        24       25        26        27  \n",
              "0   -0.115398 -0.140578 -0.163687 -0.151808 -0.16108 -0.178345 -0.134051  \n",
              "1   -0.078445 -0.140578 -0.163687 -0.151808 -0.16108 -0.178345 -0.134051  \n",
              "2   -0.115398 -0.140578 -0.163687 -0.151808 -0.16108 -0.178345 -0.134051  \n",
              "3   -0.115398 -0.140578 -0.163687 -0.151808 -0.16108 -0.178345 -0.134051  \n",
              "4   -0.115398 -0.140578 -0.163687 -0.151808 -0.16108  0.007057 -0.134051  \n",
              "..        ...       ...       ...       ...      ...       ...       ...  \n",
              "284 -0.115398 -0.140578 -0.163687 -0.151808 -0.16108 -0.178345 -0.134051  \n",
              "285 -0.115398 -0.140578 -0.163687 -0.151808 -0.16108 -0.178345 -0.134051  \n",
              "286 -0.115398 -0.140578 -0.163687 -0.151808 -0.16108 -0.178345 -0.134051  \n",
              "287 -0.115398 -0.140578 -0.163687 -0.151808 -0.16108 -0.178345 -0.044786  \n",
              "288 -0.096921 -0.140578 -0.163687 -0.151808 -0.16108 -0.178345 -0.134051  \n",
              "\n",
              "[289 rows x 28 columns]"
            ],
            "text/html": [
              "\n",
              "  <div id=\"df-8c29534d-4f00-4f4d-a16e-6044f1583a9d\">\n",
              "    <div class=\"colab-df-container\">\n",
              "      <div>\n",
              "<style scoped>\n",
              "    .dataframe tbody tr th:only-of-type {\n",
              "        vertical-align: middle;\n",
              "    }\n",
              "\n",
              "    .dataframe tbody tr th {\n",
              "        vertical-align: top;\n",
              "    }\n",
              "\n",
              "    .dataframe thead th {\n",
              "        text-align: right;\n",
              "    }\n",
              "</style>\n",
              "<table border=\"1\" class=\"dataframe\">\n",
              "  <thead>\n",
              "    <tr style=\"text-align: right;\">\n",
              "      <th></th>\n",
              "      <th>0</th>\n",
              "      <th>1</th>\n",
              "      <th>2</th>\n",
              "      <th>3</th>\n",
              "      <th>4</th>\n",
              "      <th>5</th>\n",
              "      <th>6</th>\n",
              "      <th>7</th>\n",
              "      <th>8</th>\n",
              "      <th>9</th>\n",
              "      <th>...</th>\n",
              "      <th>18</th>\n",
              "      <th>19</th>\n",
              "      <th>20</th>\n",
              "      <th>21</th>\n",
              "      <th>22</th>\n",
              "      <th>23</th>\n",
              "      <th>24</th>\n",
              "      <th>25</th>\n",
              "      <th>26</th>\n",
              "      <th>27</th>\n",
              "    </tr>\n",
              "  </thead>\n",
              "  <tbody>\n",
              "    <tr>\n",
              "      <th>0</th>\n",
              "      <td>-0.113182</td>\n",
              "      <td>-0.003418</td>\n",
              "      <td>-0.166738</td>\n",
              "      <td>-0.054101</td>\n",
              "      <td>0.012806</td>\n",
              "      <td>-0.196608</td>\n",
              "      <td>-0.137123</td>\n",
              "      <td>-0.103515</td>\n",
              "      <td>-0.132621</td>\n",
              "      <td>-0.150672</td>\n",
              "      <td>...</td>\n",
              "      <td>-0.138369</td>\n",
              "      <td>-0.226792</td>\n",
              "      <td>-0.122594</td>\n",
              "      <td>-0.115398</td>\n",
              "      <td>-0.140578</td>\n",
              "      <td>-0.163687</td>\n",
              "      <td>-0.151808</td>\n",
              "      <td>-0.16108</td>\n",
              "      <td>-0.178345</td>\n",
              "      <td>-0.134051</td>\n",
              "    </tr>\n",
              "    <tr>\n",
              "      <th>1</th>\n",
              "      <td>-0.113182</td>\n",
              "      <td>-0.125202</td>\n",
              "      <td>-0.166738</td>\n",
              "      <td>-0.069638</td>\n",
              "      <td>-0.138257</td>\n",
              "      <td>-0.196608</td>\n",
              "      <td>-0.137123</td>\n",
              "      <td>-0.103515</td>\n",
              "      <td>-0.132621</td>\n",
              "      <td>-0.150672</td>\n",
              "      <td>...</td>\n",
              "      <td>-0.138369</td>\n",
              "      <td>-0.226792</td>\n",
              "      <td>-0.122594</td>\n",
              "      <td>-0.078445</td>\n",
              "      <td>-0.140578</td>\n",
              "      <td>-0.163687</td>\n",
              "      <td>-0.151808</td>\n",
              "      <td>-0.16108</td>\n",
              "      <td>-0.178345</td>\n",
              "      <td>-0.134051</td>\n",
              "    </tr>\n",
              "    <tr>\n",
              "      <th>2</th>\n",
              "      <td>-0.113182</td>\n",
              "      <td>-0.125202</td>\n",
              "      <td>-0.166738</td>\n",
              "      <td>-0.069638</td>\n",
              "      <td>-0.138257</td>\n",
              "      <td>-0.196608</td>\n",
              "      <td>-0.137123</td>\n",
              "      <td>-0.103515</td>\n",
              "      <td>-0.132621</td>\n",
              "      <td>-0.150672</td>\n",
              "      <td>...</td>\n",
              "      <td>-0.138369</td>\n",
              "      <td>-0.226792</td>\n",
              "      <td>-0.122594</td>\n",
              "      <td>-0.115398</td>\n",
              "      <td>-0.140578</td>\n",
              "      <td>-0.163687</td>\n",
              "      <td>-0.151808</td>\n",
              "      <td>-0.16108</td>\n",
              "      <td>-0.178345</td>\n",
              "      <td>-0.134051</td>\n",
              "    </tr>\n",
              "    <tr>\n",
              "      <th>3</th>\n",
              "      <td>-0.113182</td>\n",
              "      <td>-0.125202</td>\n",
              "      <td>-0.166738</td>\n",
              "      <td>-0.069638</td>\n",
              "      <td>-0.138257</td>\n",
              "      <td>-0.196608</td>\n",
              "      <td>-0.137123</td>\n",
              "      <td>-0.103515</td>\n",
              "      <td>-0.132621</td>\n",
              "      <td>-0.150672</td>\n",
              "      <td>...</td>\n",
              "      <td>-0.138369</td>\n",
              "      <td>-0.226792</td>\n",
              "      <td>-0.122594</td>\n",
              "      <td>-0.115398</td>\n",
              "      <td>-0.140578</td>\n",
              "      <td>-0.163687</td>\n",
              "      <td>-0.151808</td>\n",
              "      <td>-0.16108</td>\n",
              "      <td>-0.178345</td>\n",
              "      <td>-0.134051</td>\n",
              "    </tr>\n",
              "    <tr>\n",
              "      <th>4</th>\n",
              "      <td>-0.113182</td>\n",
              "      <td>-0.125202</td>\n",
              "      <td>-0.166738</td>\n",
              "      <td>-0.069638</td>\n",
              "      <td>-0.138257</td>\n",
              "      <td>-0.196608</td>\n",
              "      <td>-0.137123</td>\n",
              "      <td>-0.103515</td>\n",
              "      <td>-0.132621</td>\n",
              "      <td>-0.150672</td>\n",
              "      <td>...</td>\n",
              "      <td>-0.138369</td>\n",
              "      <td>-0.226792</td>\n",
              "      <td>-0.122594</td>\n",
              "      <td>-0.115398</td>\n",
              "      <td>-0.140578</td>\n",
              "      <td>-0.163687</td>\n",
              "      <td>-0.151808</td>\n",
              "      <td>-0.16108</td>\n",
              "      <td>0.007057</td>\n",
              "      <td>-0.134051</td>\n",
              "    </tr>\n",
              "    <tr>\n",
              "      <th>...</th>\n",
              "      <td>...</td>\n",
              "      <td>...</td>\n",
              "      <td>...</td>\n",
              "      <td>...</td>\n",
              "      <td>...</td>\n",
              "      <td>...</td>\n",
              "      <td>...</td>\n",
              "      <td>...</td>\n",
              "      <td>...</td>\n",
              "      <td>...</td>\n",
              "      <td>...</td>\n",
              "      <td>...</td>\n",
              "      <td>...</td>\n",
              "      <td>...</td>\n",
              "      <td>...</td>\n",
              "      <td>...</td>\n",
              "      <td>...</td>\n",
              "      <td>...</td>\n",
              "      <td>...</td>\n",
              "      <td>...</td>\n",
              "      <td>...</td>\n",
              "    </tr>\n",
              "    <tr>\n",
              "      <th>284</th>\n",
              "      <td>-0.113182</td>\n",
              "      <td>-0.125202</td>\n",
              "      <td>-0.166738</td>\n",
              "      <td>-0.069638</td>\n",
              "      <td>-0.138257</td>\n",
              "      <td>-0.196608</td>\n",
              "      <td>-0.137123</td>\n",
              "      <td>-0.103515</td>\n",
              "      <td>-0.132621</td>\n",
              "      <td>-0.150672</td>\n",
              "      <td>...</td>\n",
              "      <td>-0.138369</td>\n",
              "      <td>-0.226792</td>\n",
              "      <td>-0.122594</td>\n",
              "      <td>-0.115398</td>\n",
              "      <td>-0.140578</td>\n",
              "      <td>-0.163687</td>\n",
              "      <td>-0.151808</td>\n",
              "      <td>-0.16108</td>\n",
              "      <td>-0.178345</td>\n",
              "      <td>-0.134051</td>\n",
              "    </tr>\n",
              "    <tr>\n",
              "      <th>285</th>\n",
              "      <td>-0.113182</td>\n",
              "      <td>-0.125202</td>\n",
              "      <td>-0.166738</td>\n",
              "      <td>-0.069638</td>\n",
              "      <td>-0.138257</td>\n",
              "      <td>-0.196608</td>\n",
              "      <td>-0.137123</td>\n",
              "      <td>-0.103515</td>\n",
              "      <td>-0.132621</td>\n",
              "      <td>-0.150672</td>\n",
              "      <td>...</td>\n",
              "      <td>-0.138369</td>\n",
              "      <td>-0.226792</td>\n",
              "      <td>-0.122594</td>\n",
              "      <td>-0.115398</td>\n",
              "      <td>-0.140578</td>\n",
              "      <td>-0.163687</td>\n",
              "      <td>-0.151808</td>\n",
              "      <td>-0.16108</td>\n",
              "      <td>-0.178345</td>\n",
              "      <td>-0.134051</td>\n",
              "    </tr>\n",
              "    <tr>\n",
              "      <th>286</th>\n",
              "      <td>-0.113182</td>\n",
              "      <td>-0.125202</td>\n",
              "      <td>-0.166738</td>\n",
              "      <td>-0.069638</td>\n",
              "      <td>-0.138257</td>\n",
              "      <td>-0.196608</td>\n",
              "      <td>-0.137123</td>\n",
              "      <td>-0.103515</td>\n",
              "      <td>-0.132621</td>\n",
              "      <td>-0.150672</td>\n",
              "      <td>...</td>\n",
              "      <td>-0.138369</td>\n",
              "      <td>-0.226792</td>\n",
              "      <td>-0.122594</td>\n",
              "      <td>-0.115398</td>\n",
              "      <td>-0.140578</td>\n",
              "      <td>-0.163687</td>\n",
              "      <td>-0.151808</td>\n",
              "      <td>-0.16108</td>\n",
              "      <td>-0.178345</td>\n",
              "      <td>-0.134051</td>\n",
              "    </tr>\n",
              "    <tr>\n",
              "      <th>287</th>\n",
              "      <td>-0.100721</td>\n",
              "      <td>-0.125202</td>\n",
              "      <td>-0.145464</td>\n",
              "      <td>-0.069638</td>\n",
              "      <td>-0.138257</td>\n",
              "      <td>-0.196608</td>\n",
              "      <td>-0.137123</td>\n",
              "      <td>-0.103515</td>\n",
              "      <td>-0.115818</td>\n",
              "      <td>-0.150672</td>\n",
              "      <td>...</td>\n",
              "      <td>-0.138369</td>\n",
              "      <td>0.118777</td>\n",
              "      <td>-0.077916</td>\n",
              "      <td>-0.115398</td>\n",
              "      <td>-0.140578</td>\n",
              "      <td>-0.163687</td>\n",
              "      <td>-0.151808</td>\n",
              "      <td>-0.16108</td>\n",
              "      <td>-0.178345</td>\n",
              "      <td>-0.044786</td>\n",
              "    </tr>\n",
              "    <tr>\n",
              "      <th>288</th>\n",
              "      <td>-0.038417</td>\n",
              "      <td>-0.125202</td>\n",
              "      <td>-0.166738</td>\n",
              "      <td>-0.069638</td>\n",
              "      <td>-0.138257</td>\n",
              "      <td>-0.196608</td>\n",
              "      <td>-0.137123</td>\n",
              "      <td>-0.088006</td>\n",
              "      <td>-0.132621</td>\n",
              "      <td>-0.150672</td>\n",
              "      <td>...</td>\n",
              "      <td>-0.138369</td>\n",
              "      <td>-0.226792</td>\n",
              "      <td>-0.122594</td>\n",
              "      <td>-0.096921</td>\n",
              "      <td>-0.140578</td>\n",
              "      <td>-0.163687</td>\n",
              "      <td>-0.151808</td>\n",
              "      <td>-0.16108</td>\n",
              "      <td>-0.178345</td>\n",
              "      <td>-0.134051</td>\n",
              "    </tr>\n",
              "  </tbody>\n",
              "</table>\n",
              "<p>289 rows × 28 columns</p>\n",
              "</div>\n",
              "      <button class=\"colab-df-convert\" onclick=\"convertToInteractive('df-8c29534d-4f00-4f4d-a16e-6044f1583a9d')\"\n",
              "              title=\"Convert this dataframe to an interactive table.\"\n",
              "              style=\"display:none;\">\n",
              "        \n",
              "  <svg xmlns=\"http://www.w3.org/2000/svg\" height=\"24px\"viewBox=\"0 0 24 24\"\n",
              "       width=\"24px\">\n",
              "    <path d=\"M0 0h24v24H0V0z\" fill=\"none\"/>\n",
              "    <path d=\"M18.56 5.44l.94 2.06.94-2.06 2.06-.94-2.06-.94-.94-2.06-.94 2.06-2.06.94zm-11 1L8.5 8.5l.94-2.06 2.06-.94-2.06-.94L8.5 2.5l-.94 2.06-2.06.94zm10 10l.94 2.06.94-2.06 2.06-.94-2.06-.94-.94-2.06-.94 2.06-2.06.94z\"/><path d=\"M17.41 7.96l-1.37-1.37c-.4-.4-.92-.59-1.43-.59-.52 0-1.04.2-1.43.59L10.3 9.45l-7.72 7.72c-.78.78-.78 2.05 0 2.83L4 21.41c.39.39.9.59 1.41.59.51 0 1.02-.2 1.41-.59l7.78-7.78 2.81-2.81c.8-.78.8-2.07 0-2.86zM5.41 20L4 18.59l7.72-7.72 1.47 1.35L5.41 20z\"/>\n",
              "  </svg>\n",
              "      </button>\n",
              "      \n",
              "  <style>\n",
              "    .colab-df-container {\n",
              "      display:flex;\n",
              "      flex-wrap:wrap;\n",
              "      gap: 12px;\n",
              "    }\n",
              "\n",
              "    .colab-df-convert {\n",
              "      background-color: #E8F0FE;\n",
              "      border: none;\n",
              "      border-radius: 50%;\n",
              "      cursor: pointer;\n",
              "      display: none;\n",
              "      fill: #1967D2;\n",
              "      height: 32px;\n",
              "      padding: 0 0 0 0;\n",
              "      width: 32px;\n",
              "    }\n",
              "\n",
              "    .colab-df-convert:hover {\n",
              "      background-color: #E2EBFA;\n",
              "      box-shadow: 0px 1px 2px rgba(60, 64, 67, 0.3), 0px 1px 3px 1px rgba(60, 64, 67, 0.15);\n",
              "      fill: #174EA6;\n",
              "    }\n",
              "\n",
              "    [theme=dark] .colab-df-convert {\n",
              "      background-color: #3B4455;\n",
              "      fill: #D2E3FC;\n",
              "    }\n",
              "\n",
              "    [theme=dark] .colab-df-convert:hover {\n",
              "      background-color: #434B5C;\n",
              "      box-shadow: 0px 1px 3px 1px rgba(0, 0, 0, 0.15);\n",
              "      filter: drop-shadow(0px 1px 2px rgba(0, 0, 0, 0.3));\n",
              "      fill: #FFFFFF;\n",
              "    }\n",
              "  </style>\n",
              "\n",
              "      <script>\n",
              "        const buttonEl =\n",
              "          document.querySelector('#df-8c29534d-4f00-4f4d-a16e-6044f1583a9d button.colab-df-convert');\n",
              "        buttonEl.style.display =\n",
              "          google.colab.kernel.accessAllowed ? 'block' : 'none';\n",
              "\n",
              "        async function convertToInteractive(key) {\n",
              "          const element = document.querySelector('#df-8c29534d-4f00-4f4d-a16e-6044f1583a9d');\n",
              "          const dataTable =\n",
              "            await google.colab.kernel.invokeFunction('convertToInteractive',\n",
              "                                                     [key], {});\n",
              "          if (!dataTable) return;\n",
              "\n",
              "          const docLinkHtml = 'Like what you see? Visit the ' +\n",
              "            '<a target=\"_blank\" href=https://colab.research.google.com/notebooks/data_table.ipynb>data table notebook</a>'\n",
              "            + ' to learn more about interactive tables.';\n",
              "          element.innerHTML = '';\n",
              "          dataTable['output_type'] = 'display_data';\n",
              "          await google.colab.output.renderOutput(dataTable, element);\n",
              "          const docLink = document.createElement('div');\n",
              "          docLink.innerHTML = docLinkHtml;\n",
              "          element.appendChild(docLink);\n",
              "        }\n",
              "      </script>\n",
              "    </div>\n",
              "  </div>\n",
              "  "
            ]
          },
          "metadata": {},
          "execution_count": 204
        }
      ]
    },
    {
      "cell_type": "code",
      "source": [
        "clast_z = []\n",
        "for i in range(1, 20):\n",
        "  kmean = KMeans(n_clusters=i)\n",
        "  kmean.fit(month_kmean_z)\n",
        "  clast_z.append(kmean.inertia_)\n",
        "plt.plot(range(1, 20), clast_z)\n",
        "plt.show()"
      ],
      "metadata": {
        "colab": {
          "base_uri": "https://localhost:8080/",
          "height": 265
        },
        "id": "USP1wlnMw65k",
        "outputId": "a68c4e5b-348a-47b3-9052-160857ae519d"
      },
      "execution_count": null,
      "outputs": [
        {
          "output_type": "display_data",
          "data": {
            "text/plain": [
              "<Figure size 432x288 with 1 Axes>"
            ],
            "image/png": "[encoded data removed]"
          },
          "metadata": {
            "needs_background": "light"
          }
        }
      ]
    },
    {
      "cell_type": "code",
      "source": [
        "Z = sch.linkage(month_kmean_z, method='ward')\n",
        "plt.figure()\n",
        "dn = sch.dendrogram(Z)\n",
        "plt.show()"
      ],
      "metadata": {
        "colab": {
          "base_uri": "https://localhost:8080/",
          "height": 265
        },
        "id": "6TsLoKNyw8zV",
        "outputId": "b0553252-ff67-4f5e-dfb2-4685988c897d"
      },
      "execution_count": null,
      "outputs": [
        {
          "output_type": "display_data",
          "data": {
            "text/plain": [
              "<Figure size 432x288 with 1 Axes>"
            ],
            "image/png": "[encoded data removed]"
          },
          "metadata": {
            "needs_background": "light"
          }
        }
      ]
    },
    {
      "cell_type": "code",
      "source": [
        "kmean = KMeans(n_clusters=3)\n",
        "kmean.fit(month_kmean_z)"
      ],
      "metadata": {
        "colab": {
          "base_uri": "https://localhost:8080/"
        },
        "id": "73JEVOvfw-fq",
        "outputId": "37a4edf7-5a2a-44d8-e682-5fdd3fbdf1f3"
      },
      "execution_count": null,
      "outputs": [
        {
          "output_type": "execute_result",
          "data": {
            "text/plain": [
              "KMeans(n_clusters=3)"
            ]
          },
          "metadata": {},
          "execution_count": 207
        }
      ]
    },
    {
      "cell_type": "code",
      "source": [
        "kmean.predict(month_kmean_z)"
      ],
      "metadata": {
        "colab": {
          "base_uri": "https://localhost:8080/"
        },
        "id": "j-uu6PXkxASb",
        "outputId": "04d63066-4e69-46ed-8254-57ba7a3a9d1f"
      },
      "execution_count": null,
      "outputs": [
        {
          "output_type": "execute_result",
          "data": {
            "text/plain": [
              "array([1, 1, 1, 1, 1, 1, 1, 1, 1, 1, 1, 1, 1, 1, 1, 1, 1, 1, 1, 1, 1, 1,\n",
              "       1, 1, 1, 1, 1, 1, 1, 1, 1, 0, 1, 1, 1, 1, 1, 1, 1, 1, 1, 1, 1, 1,\n",
              "       1, 1, 1, 1, 1, 1, 1, 1, 1, 1, 1, 1, 1, 1, 1, 1, 1, 1, 1, 1, 1, 1,\n",
              "       1, 1, 1, 1, 1, 1, 1, 1, 1, 1, 1, 1, 1, 1, 1, 1, 1, 1, 1, 1, 1, 1,\n",
              "       1, 1, 1, 1, 1, 1, 1, 1, 1, 1, 1, 1, 1, 1, 1, 1, 1, 1, 1, 1, 1, 1,\n",
              "       1, 1, 1, 1, 1, 1, 1, 1, 1, 1, 1, 1, 1, 1, 1, 1, 1, 1, 1, 1, 1, 1,\n",
              "       1, 1, 1, 0, 1, 1, 1, 1, 1, 1, 1, 1, 1, 1, 1, 1, 1, 1, 1, 1, 1, 1,\n",
              "       1, 1, 0, 1, 1, 1, 1, 1, 1, 1, 1, 1, 1, 1, 1, 1, 1, 1, 1, 1, 1, 1,\n",
              "       1, 1, 1, 1, 1, 1, 1, 1, 1, 1, 1, 1, 1, 1, 1, 1, 1, 1, 1, 1, 1, 1,\n",
              "       1, 1, 1, 1, 1, 1, 1, 1, 1, 1, 1, 1, 1, 1, 1, 1, 1, 1, 1, 1, 1, 1,\n",
              "       1, 0, 1, 1, 1, 1, 1, 1, 1, 1, 1, 1, 1, 1, 1, 1, 1, 1, 1, 1, 1, 1,\n",
              "       1, 1, 1, 1, 1, 1, 1, 0, 1, 1, 1, 1, 1, 1, 1, 1, 1, 1, 2, 1, 1, 1,\n",
              "       1, 1, 1, 1, 1, 1, 1, 1, 1, 1, 1, 1, 1, 1, 1, 1, 1, 1, 1, 1, 1, 1,\n",
              "       1, 1, 1], dtype=int32)"
            ]
          },
          "metadata": {},
          "execution_count": 208
        }
      ]
    },
    {
      "cell_type": "code",
      "source": [
        "plt.scatter(months_death['Lat'], months_death['Long'], c=kmean.labels_)\n",
        "plt.text(61.52401, 105.318756, 'Россия', c='red')\n",
        "plt.show()"
      ],
      "metadata": {
        "colab": {
          "base_uri": "https://localhost:8080/",
          "height": 265
        },
        "id": "QWsNSNLDxCV2",
        "outputId": "b493a301-73a1-40e0-b8e3-abba6185fdc6"
      },
      "execution_count": null,
      "outputs": [
        {
          "output_type": "display_data",
          "data": {
            "text/plain": [
              "<Figure size 432x288 with 1 Axes>"
            ],
            "image/png": "[encoded data removed]"
          },
          "metadata": {
            "needs_background": "light"
          }
        }
      ]
    },
    {
      "cell_type": "markdown",
      "source": [
        "*Вывод: Россия оказалась в кластере с одним из самых больших показателей по смертности в феврале 2023*\n",
        "\n",
        "---\n",
        "\n",
        "\n",
        "\n",
        "---\n",
        "\n"
      ],
      "metadata": {
        "id": "w3irB4iexEHZ"
      }
    },
    {
      "cell_type": "markdown",
      "source": [],
      "metadata": {
        "id": "txjf16DVQ4MF"
      }
    },
    {
      "cell_type": "markdown",
      "source": [
        "# Кластеризация за 1 год (февраль 2022 - февраль 2023)\n",
        "\n",
        "---\n",
        "\n"
      ],
      "metadata": {
        "id": "C5RJm02Y1cAw"
      }
    },
    {
      "cell_type": "markdown",
      "source": [
        "### Подготовка данных"
      ],
      "metadata": {
        "id": "s9Qcbp45WJYz"
      }
    },
    {
      "cell_type": "code",
      "source": [
        "def yearClaster(n):\n",
        "  if n == 1:\n",
        "    # Данные по заболевшим\n",
        "    dfYear = pd.read_csv('/content/gdrive/MyDrive/Colab Notebooks/Task_15/time_series_covid19_confirmed_global.csv')\n",
        "  else:\n",
        "    # Данные по умершим\n",
        "    dfYear = pd.read_csv('/content/gdrive/MyDrive/Colab Notebooks/Task_15/time_series_covid19_deaths_global.csv')\n",
        "  df = dfYear.loc[:, '2/28/22':'2/28/23']\n",
        "  # Вычисляем кол-во заразившихся/умерших за год\n",
        "  data = df['2/28/23'] - df['2/28/22']\n",
        "  df['Total'] = data\n",
        "\n",
        "  # Формирование итоговой таблицы\n",
        "  day = dfYear[['Country/Region', 'Lat', 'Long']]\n",
        "  month = day.join(df)\n",
        "  \n",
        "  return month\n",
        "\n",
        "\n",
        "year_sick = yearClaster(1)\n",
        "year_death = yearClaster(2)"
      ],
      "metadata": {
        "id": "cWoHxzqj1cA4"
      },
      "execution_count": null,
      "outputs": []
    },
    {
      "cell_type": "code",
      "source": [
        "rus = year_death.loc[year_death['Country/Region'] == 'Russia']\n",
        "rus"
      ],
      "metadata": {
        "colab": {
          "base_uri": "https://localhost:8080/",
          "height": 174
        },
        "id": "1P4q4OetUHFy",
        "outputId": "1f3c019a-f4a0-4ba6-884a-81ccb2fb9e13"
      },
      "execution_count": null,
      "outputs": [
        {
          "output_type": "execute_result",
          "data": {
            "text/plain": [
              "    Country/Region       Lat        Long  2/28/22  3/1/22  3/2/22  3/3/22  \\\n",
              "221         Russia  61.52401  105.318756   344655  345427  346197  346967   \n",
              "\n",
              "     3/4/22  3/5/22  3/6/22  ...  2/20/23  2/21/23  2/22/23  2/23/23  2/24/23  \\\n",
              "221  347730  348467  349196  ...   387861   387899   387932   387969   388000   \n",
              "\n",
              "     2/25/23  2/26/23  2/27/23  2/28/23  Total  \n",
              "221   388033   388063   388091   388126  43471  \n",
              "\n",
              "[1 rows x 370 columns]"
            ],
            "text/html": [
              "\n",
              "  <div id=\"df-d1f89746-e794-4eef-be12-33848d52062e\">\n",
              "    <div class=\"colab-df-container\">\n",
              "      <div>\n",
              "<style scoped>\n",
              "    .dataframe tbody tr th:only-of-type {\n",
              "        vertical-align: middle;\n",
              "    }\n",
              "\n",
              "    .dataframe tbody tr th {\n",
              "        vertical-align: top;\n",
              "    }\n",
              "\n",
              "    .dataframe thead th {\n",
              "        text-align: right;\n",
              "    }\n",
              "</style>\n",
              "<table border=\"1\" class=\"dataframe\">\n",
              "  <thead>\n",
              "    <tr style=\"text-align: right;\">\n",
              "      <th></th>\n",
              "      <th>Country/Region</th>\n",
              "      <th>Lat</th>\n",
              "      <th>Long</th>\n",
              "      <th>2/28/22</th>\n",
              "      <th>3/1/22</th>\n",
              "      <th>3/2/22</th>\n",
              "      <th>3/3/22</th>\n",
              "      <th>3/4/22</th>\n",
              "      <th>3/5/22</th>\n",
              "      <th>3/6/22</th>\n",
              "      <th>...</th>\n",
              "      <th>2/20/23</th>\n",
              "      <th>2/21/23</th>\n",
              "      <th>2/22/23</th>\n",
              "      <th>2/23/23</th>\n",
              "      <th>2/24/23</th>\n",
              "      <th>2/25/23</th>\n",
              "      <th>2/26/23</th>\n",
              "      <th>2/27/23</th>\n",
              "      <th>2/28/23</th>\n",
              "      <th>Total</th>\n",
              "    </tr>\n",
              "  </thead>\n",
              "  <tbody>\n",
              "    <tr>\n",
              "      <th>221</th>\n",
              "      <td>Russia</td>\n",
              "      <td>61.52401</td>\n",
              "      <td>105.318756</td>\n",
              "      <td>344655</td>\n",
              "      <td>345427</td>\n",
              "      <td>346197</td>\n",
              "      <td>346967</td>\n",
              "      <td>347730</td>\n",
              "      <td>348467</td>\n",
              "      <td>349196</td>\n",
              "      <td>...</td>\n",
              "      <td>387861</td>\n",
              "      <td>387899</td>\n",
              "      <td>387932</td>\n",
              "      <td>387969</td>\n",
              "      <td>388000</td>\n",
              "      <td>388033</td>\n",
              "      <td>388063</td>\n",
              "      <td>388091</td>\n",
              "      <td>388126</td>\n",
              "      <td>43471</td>\n",
              "    </tr>\n",
              "  </tbody>\n",
              "</table>\n",
              "<p>1 rows × 370 columns</p>\n",
              "</div>\n",
              "      <button class=\"colab-df-convert\" onclick=\"convertToInteractive('df-d1f89746-e794-4eef-be12-33848d52062e')\"\n",
              "              title=\"Convert this dataframe to an interactive table.\"\n",
              "              style=\"display:none;\">\n",
              "        \n",
              "  <svg xmlns=\"http://www.w3.org/2000/svg\" height=\"24px\"viewBox=\"0 0 24 24\"\n",
              "       width=\"24px\">\n",
              "    <path d=\"M0 0h24v24H0V0z\" fill=\"none\"/>\n",
              "    <path d=\"M18.56 5.44l.94 2.06.94-2.06 2.06-.94-2.06-.94-.94-2.06-.94 2.06-2.06.94zm-11 1L8.5 8.5l.94-2.06 2.06-.94-2.06-.94L8.5 2.5l-.94 2.06-2.06.94zm10 10l.94 2.06.94-2.06 2.06-.94-2.06-.94-.94-2.06-.94 2.06-2.06.94z\"/><path d=\"M17.41 7.96l-1.37-1.37c-.4-.4-.92-.59-1.43-.59-.52 0-1.04.2-1.43.59L10.3 9.45l-7.72 7.72c-.78.78-.78 2.05 0 2.83L4 21.41c.39.39.9.59 1.41.59.51 0 1.02-.2 1.41-.59l7.78-7.78 2.81-2.81c.8-.78.8-2.07 0-2.86zM5.41 20L4 18.59l7.72-7.72 1.47 1.35L5.41 20z\"/>\n",
              "  </svg>\n",
              "      </button>\n",
              "      \n",
              "  <style>\n",
              "    .colab-df-container {\n",
              "      display:flex;\n",
              "      flex-wrap:wrap;\n",
              "      gap: 12px;\n",
              "    }\n",
              "\n",
              "    .colab-df-convert {\n",
              "      background-color: #E8F0FE;\n",
              "      border: none;\n",
              "      border-radius: 50%;\n",
              "      cursor: pointer;\n",
              "      display: none;\n",
              "      fill: #1967D2;\n",
              "      height: 32px;\n",
              "      padding: 0 0 0 0;\n",
              "      width: 32px;\n",
              "    }\n",
              "\n",
              "    .colab-df-convert:hover {\n",
              "      background-color: #E2EBFA;\n",
              "      box-shadow: 0px 1px 2px rgba(60, 64, 67, 0.3), 0px 1px 3px 1px rgba(60, 64, 67, 0.15);\n",
              "      fill: #174EA6;\n",
              "    }\n",
              "\n",
              "    [theme=dark] .colab-df-convert {\n",
              "      background-color: #3B4455;\n",
              "      fill: #D2E3FC;\n",
              "    }\n",
              "\n",
              "    [theme=dark] .colab-df-convert:hover {\n",
              "      background-color: #434B5C;\n",
              "      box-shadow: 0px 1px 3px 1px rgba(0, 0, 0, 0.15);\n",
              "      filter: drop-shadow(0px 1px 2px rgba(0, 0, 0, 0.3));\n",
              "      fill: #FFFFFF;\n",
              "    }\n",
              "  </style>\n",
              "\n",
              "      <script>\n",
              "        const buttonEl =\n",
              "          document.querySelector('#df-d1f89746-e794-4eef-be12-33848d52062e button.colab-df-convert');\n",
              "        buttonEl.style.display =\n",
              "          google.colab.kernel.accessAllowed ? 'block' : 'none';\n",
              "\n",
              "        async function convertToInteractive(key) {\n",
              "          const element = document.querySelector('#df-d1f89746-e794-4eef-be12-33848d52062e');\n",
              "          const dataTable =\n",
              "            await google.colab.kernel.invokeFunction('convertToInteractive',\n",
              "                                                     [key], {});\n",
              "          if (!dataTable) return;\n",
              "\n",
              "          const docLinkHtml = 'Like what you see? Visit the ' +\n",
              "            '<a target=\"_blank\" href=https://colab.research.google.com/notebooks/data_table.ipynb>data table notebook</a>'\n",
              "            + ' to learn more about interactive tables.';\n",
              "          element.innerHTML = '';\n",
              "          dataTable['output_type'] = 'display_data';\n",
              "          await google.colab.output.renderOutput(dataTable, element);\n",
              "          const docLink = document.createElement('div');\n",
              "          docLink.innerHTML = docLinkHtml;\n",
              "          element.appendChild(docLink);\n",
              "        }\n",
              "      </script>\n",
              "    </div>\n",
              "  </div>\n",
              "  "
            ]
          },
          "metadata": {},
          "execution_count": 265
        }
      ]
    },
    {
      "cell_type": "code",
      "source": [
        "year_death['Total'].max()"
      ],
      "metadata": {
        "colab": {
          "base_uri": "https://localhost:8080/"
        },
        "id": "mNZ5OSxyUkdj",
        "outputId": "3da7593d-e161-4f8c-f423-50130bf454ce"
      },
      "execution_count": null,
      "outputs": [
        {
          "output_type": "execute_result",
          "data": {
            "text/plain": [
              "169543"
            ]
          },
          "metadata": {},
          "execution_count": 266
        }
      ]
    },
    {
      "cell_type": "markdown",
      "source": [
        "###Кластеризация по **заболевшим** за 1 год (февраль 2022 - февраль 2023)\n",
        "\n",
        "---\n",
        "\n"
      ],
      "metadata": {
        "id": "WZLP-BkX1cA5"
      }
    },
    {
      "cell_type": "code",
      "source": [
        "# Таблица по заболевшим за 2023\n",
        "year_sickDate = year_sick[['Total']]\n",
        "#months_sickDate"
      ],
      "metadata": {
        "id": "ZUbkc2YN1cA5"
      },
      "execution_count": null,
      "outputs": []
    },
    {
      "cell_type": "code",
      "source": [
        "import matplotlib.pyplot as plt\n",
        "from sklearn.cluster import KMeans\n",
        "from sklearn.preprocessing import StandardScaler\n",
        "import scipy.cluster.hierarchy as sch"
      ],
      "metadata": {
        "id": "K-HnJzxL1cA5"
      },
      "execution_count": null,
      "outputs": []
    },
    {
      "cell_type": "code",
      "source": [
        "sc = StandardScaler()"
      ],
      "metadata": {
        "id": "pE81q7gJ1cA5"
      },
      "execution_count": null,
      "outputs": []
    },
    {
      "cell_type": "code",
      "source": [
        "year_kmean_z = sc.fit_transform(year_sickDate)\n",
        "year_kmean_z = pd.DataFrame(year_kmean_z)\n",
        "year_kmean_z.fillna(0)"
      ],
      "metadata": {
        "colab": {
          "base_uri": "https://localhost:8080/",
          "height": 423
        },
        "outputId": "447928d7-6dab-4c4a-f5cd-9b9f1a72b260",
        "id": "SlJVl7M51cA6"
      },
      "execution_count": null,
      "outputs": [
        {
          "output_type": "execute_result",
          "data": {
            "text/plain": [
              "            0\n",
              "0   -0.232285\n",
              "1   -0.224271\n",
              "2   -0.240888\n",
              "3   -0.239896\n",
              "4   -0.240886\n",
              "..        ...\n",
              "284 -0.225907\n",
              "285 -0.242803\n",
              "286 -0.242756\n",
              "287 -0.233879\n",
              "288 -0.234682\n",
              "\n",
              "[289 rows x 1 columns]"
            ],
            "text/html": [
              "\n",
              "  <div id=\"df-f9f3e762-63fb-465e-8008-2b8b4abbf0b8\">\n",
              "    <div class=\"colab-df-container\">\n",
              "      <div>\n",
              "<style scoped>\n",
              "    .dataframe tbody tr th:only-of-type {\n",
              "        vertical-align: middle;\n",
              "    }\n",
              "\n",
              "    .dataframe tbody tr th {\n",
              "        vertical-align: top;\n",
              "    }\n",
              "\n",
              "    .dataframe thead th {\n",
              "        text-align: right;\n",
              "    }\n",
              "</style>\n",
              "<table border=\"1\" class=\"dataframe\">\n",
              "  <thead>\n",
              "    <tr style=\"text-align: right;\">\n",
              "      <th></th>\n",
              "      <th>0</th>\n",
              "    </tr>\n",
              "  </thead>\n",
              "  <tbody>\n",
              "    <tr>\n",
              "      <th>0</th>\n",
              "      <td>-0.232285</td>\n",
              "    </tr>\n",
              "    <tr>\n",
              "      <th>1</th>\n",
              "      <td>-0.224271</td>\n",
              "    </tr>\n",
              "    <tr>\n",
              "      <th>2</th>\n",
              "      <td>-0.240888</td>\n",
              "    </tr>\n",
              "    <tr>\n",
              "      <th>3</th>\n",
              "      <td>-0.239896</td>\n",
              "    </tr>\n",
              "    <tr>\n",
              "      <th>4</th>\n",
              "      <td>-0.240886</td>\n",
              "    </tr>\n",
              "    <tr>\n",
              "      <th>...</th>\n",
              "      <td>...</td>\n",
              "    </tr>\n",
              "    <tr>\n",
              "      <th>284</th>\n",
              "      <td>-0.225907</td>\n",
              "    </tr>\n",
              "    <tr>\n",
              "      <th>285</th>\n",
              "      <td>-0.242803</td>\n",
              "    </tr>\n",
              "    <tr>\n",
              "      <th>286</th>\n",
              "      <td>-0.242756</td>\n",
              "    </tr>\n",
              "    <tr>\n",
              "      <th>287</th>\n",
              "      <td>-0.233879</td>\n",
              "    </tr>\n",
              "    <tr>\n",
              "      <th>288</th>\n",
              "      <td>-0.234682</td>\n",
              "    </tr>\n",
              "  </tbody>\n",
              "</table>\n",
              "<p>289 rows × 1 columns</p>\n",
              "</div>\n",
              "      <button class=\"colab-df-convert\" onclick=\"convertToInteractive('df-f9f3e762-63fb-465e-8008-2b8b4abbf0b8')\"\n",
              "              title=\"Convert this dataframe to an interactive table.\"\n",
              "              style=\"display:none;\">\n",
              "        \n",
              "  <svg xmlns=\"http://www.w3.org/2000/svg\" height=\"24px\"viewBox=\"0 0 24 24\"\n",
              "       width=\"24px\">\n",
              "    <path d=\"M0 0h24v24H0V0z\" fill=\"none\"/>\n",
              "    <path d=\"M18.56 5.44l.94 2.06.94-2.06 2.06-.94-2.06-.94-.94-2.06-.94 2.06-2.06.94zm-11 1L8.5 8.5l.94-2.06 2.06-.94-2.06-.94L8.5 2.5l-.94 2.06-2.06.94zm10 10l.94 2.06.94-2.06 2.06-.94-2.06-.94-.94-2.06-.94 2.06-2.06.94z\"/><path d=\"M17.41 7.96l-1.37-1.37c-.4-.4-.92-.59-1.43-.59-.52 0-1.04.2-1.43.59L10.3 9.45l-7.72 7.72c-.78.78-.78 2.05 0 2.83L4 21.41c.39.39.9.59 1.41.59.51 0 1.02-.2 1.41-.59l7.78-7.78 2.81-2.81c.8-.78.8-2.07 0-2.86zM5.41 20L4 18.59l7.72-7.72 1.47 1.35L5.41 20z\"/>\n",
              "  </svg>\n",
              "      </button>\n",
              "      \n",
              "  <style>\n",
              "    .colab-df-container {\n",
              "      display:flex;\n",
              "      flex-wrap:wrap;\n",
              "      gap: 12px;\n",
              "    }\n",
              "\n",
              "    .colab-df-convert {\n",
              "      background-color: #E8F0FE;\n",
              "      border: none;\n",
              "      border-radius: 50%;\n",
              "      cursor: pointer;\n",
              "      display: none;\n",
              "      fill: #1967D2;\n",
              "      height: 32px;\n",
              "      padding: 0 0 0 0;\n",
              "      width: 32px;\n",
              "    }\n",
              "\n",
              "    .colab-df-convert:hover {\n",
              "      background-color: #E2EBFA;\n",
              "      box-shadow: 0px 1px 2px rgba(60, 64, 67, 0.3), 0px 1px 3px 1px rgba(60, 64, 67, 0.15);\n",
              "      fill: #174EA6;\n",
              "    }\n",
              "\n",
              "    [theme=dark] .colab-df-convert {\n",
              "      background-color: #3B4455;\n",
              "      fill: #D2E3FC;\n",
              "    }\n",
              "\n",
              "    [theme=dark] .colab-df-convert:hover {\n",
              "      background-color: #434B5C;\n",
              "      box-shadow: 0px 1px 3px 1px rgba(0, 0, 0, 0.15);\n",
              "      filter: drop-shadow(0px 1px 2px rgba(0, 0, 0, 0.3));\n",
              "      fill: #FFFFFF;\n",
              "    }\n",
              "  </style>\n",
              "\n",
              "      <script>\n",
              "        const buttonEl =\n",
              "          document.querySelector('#df-f9f3e762-63fb-465e-8008-2b8b4abbf0b8 button.colab-df-convert');\n",
              "        buttonEl.style.display =\n",
              "          google.colab.kernel.accessAllowed ? 'block' : 'none';\n",
              "\n",
              "        async function convertToInteractive(key) {\n",
              "          const element = document.querySelector('#df-f9f3e762-63fb-465e-8008-2b8b4abbf0b8');\n",
              "          const dataTable =\n",
              "            await google.colab.kernel.invokeFunction('convertToInteractive',\n",
              "                                                     [key], {});\n",
              "          if (!dataTable) return;\n",
              "\n",
              "          const docLinkHtml = 'Like what you see? Visit the ' +\n",
              "            '<a target=\"_blank\" href=https://colab.research.google.com/notebooks/data_table.ipynb>data table notebook</a>'\n",
              "            + ' to learn more about interactive tables.';\n",
              "          element.innerHTML = '';\n",
              "          dataTable['output_type'] = 'display_data';\n",
              "          await google.colab.output.renderOutput(dataTable, element);\n",
              "          const docLink = document.createElement('div');\n",
              "          docLink.innerHTML = docLinkHtml;\n",
              "          element.appendChild(docLink);\n",
              "        }\n",
              "      </script>\n",
              "    </div>\n",
              "  </div>\n",
              "  "
            ]
          },
          "metadata": {},
          "execution_count": 269
        }
      ]
    },
    {
      "cell_type": "code",
      "source": [
        "clast_z = []\n",
        "for i in range(1, 20):\n",
        "  kmean = KMeans(n_clusters=i)\n",
        "  kmean.fit(year_kmean_z)\n",
        "  clast_z.append(kmean.inertia_)\n",
        "plt.plot(range(1, 20), clast_z)\n",
        "plt.show()"
      ],
      "metadata": {
        "colab": {
          "base_uri": "https://localhost:8080/",
          "height": 267
        },
        "outputId": "2dfef491-4305-45f5-a845-f43fcadb52f8",
        "id": "9KGj5J2_1cA6"
      },
      "execution_count": null,
      "outputs": [
        {
          "output_type": "display_data",
          "data": {
            "text/plain": [
              "<Figure size 432x288 with 1 Axes>"
            ],
            "image/png": "[encoded data removed]"
          },
          "metadata": {
            "needs_background": "light"
          }
        }
      ]
    },
    {
      "cell_type": "code",
      "source": [
        "Z = sch.linkage(year_kmean_z, method='ward')\n",
        "plt.figure()\n",
        "dn = sch.dendrogram(Z)\n",
        "plt.show()"
      ],
      "metadata": {
        "colab": {
          "base_uri": "https://localhost:8080/",
          "height": 265
        },
        "outputId": "cdbfc5ce-c76c-45e4-84be-954c0309fd2b",
        "id": "j5F9lOB01cA6"
      },
      "execution_count": null,
      "outputs": [
        {
          "output_type": "display_data",
          "data": {
            "text/plain": [
              "<Figure size 432x288 with 1 Axes>"
            ],
            "image/png": "[encoded data removed]"
          },
          "metadata": {
            "needs_background": "light"
          }
        }
      ]
    },
    {
      "cell_type": "code",
      "source": [
        "kmean = KMeans(n_clusters=4)\n",
        "kmean.fit(year_kmean_z)"
      ],
      "metadata": {
        "colab": {
          "base_uri": "https://localhost:8080/"
        },
        "outputId": "b1df1078-e441-4355-b71a-b8886d74b334",
        "id": "Az9d8c0h1cA6"
      },
      "execution_count": null,
      "outputs": [
        {
          "output_type": "execute_result",
          "data": {
            "text/plain": [
              "KMeans(n_clusters=4)"
            ]
          },
          "metadata": {},
          "execution_count": 272
        }
      ]
    },
    {
      "cell_type": "code",
      "source": [
        "kmean.predict(year_kmean_z)"
      ],
      "metadata": {
        "colab": {
          "base_uri": "https://localhost:8080/"
        },
        "outputId": "ac938544-493d-47fa-93b4-aa4b90572817",
        "id": "8MiWizTb1cA6"
      },
      "execution_count": null,
      "outputs": [
        {
          "output_type": "execute_result",
          "data": {
            "text/plain": [
              "array([0, 0, 0, 0, 0, 0, 0, 0, 0, 0, 3, 0, 0, 0, 0, 3, 0, 3, 0, 0, 0, 0,\n",
              "       0, 0, 0, 0, 0, 0, 0, 0, 0, 2, 0, 0, 0, 0, 0, 0, 0, 0, 0, 0, 0, 0,\n",
              "       0, 0, 0, 0, 0, 0, 0, 0, 0, 0, 0, 0, 0, 0, 3, 0, 0, 0, 0, 0, 0, 0,\n",
              "       0, 0, 0, 0, 0, 3, 0, 0, 0, 0, 0, 0, 0, 0, 0, 0, 0, 0, 0, 0, 0, 0,\n",
              "       0, 3, 0, 0, 0, 0, 0, 0, 0, 0, 0, 0, 0, 0, 0, 0, 0, 0, 0, 0, 0, 0,\n",
              "       0, 0, 0, 0, 0, 0, 0, 0, 0, 0, 0, 0, 0, 0, 0, 0, 0, 0, 0, 0, 0, 2,\n",
              "       0, 0, 0, 1, 0, 3, 0, 0, 0, 0, 0, 0, 0, 0, 0, 0, 3, 0, 0, 0, 0, 0,\n",
              "       2, 0, 1, 0, 0, 0, 0, 0, 1, 0, 0, 0, 0, 0, 0, 0, 0, 0, 0, 0, 0, 0,\n",
              "       0, 0, 3, 0, 0, 0, 0, 0, 0, 3, 0, 0, 0, 0, 0, 0, 0, 0, 0, 0, 0, 0,\n",
              "       0, 0, 3, 0, 0, 3, 0, 0, 0, 0, 0, 0, 0, 0, 0, 0, 0, 0, 0, 0, 3, 0,\n",
              "       0, 3, 0, 0, 0, 0, 0, 0, 0, 0, 0, 0, 0, 0, 3, 0, 0, 0, 0, 0, 0, 3,\n",
              "       0, 0, 0, 0, 0, 3, 0, 2, 0, 0, 3, 0, 0, 0, 0, 0, 3, 0, 1, 0, 0, 0,\n",
              "       0, 0, 0, 0, 0, 0, 0, 0, 0, 0, 0, 0, 0, 0, 3, 0, 0, 0, 0, 2, 0, 0,\n",
              "       0, 0, 0], dtype=int32)"
            ]
          },
          "metadata": {},
          "execution_count": 273
        }
      ]
    },
    {
      "cell_type": "code",
      "source": [
        "# Распределение по кластерам (по заболеваемости за февраль 2023) и положение России\n",
        "plt.scatter(year_sick['Lat'], year_sick['Long'], c=kmean.labels_)\n",
        "plt.text(61.52401, 105.318756, 'Россия', c='red')\n",
        "plt.show()"
      ],
      "metadata": {
        "colab": {
          "base_uri": "https://localhost:8080/",
          "height": 265
        },
        "outputId": "287622f8-766d-4d99-d1fe-3b5432455e62",
        "id": "Zxk9VtUe1cA7"
      },
      "execution_count": null,
      "outputs": [
        {
          "output_type": "display_data",
          "data": {
            "text/plain": [
              "<Figure size 432x288 with 1 Axes>"
            ],
            "image/png": "[encoded data removed]"
          },
          "metadata": {
            "needs_background": "light"
          }
        }
      ]
    },
    {
      "cell_type": "markdown",
      "source": [
        "*Вывод: Россия оказалась в кластере со средним кол-вом заболевших в 2023*\n",
        "\n",
        "---\n",
        "\n",
        "\n",
        "\n",
        "---\n",
        "\n"
      ],
      "metadata": {
        "id": "UR82EVJs1cA8"
      }
    },
    {
      "cell_type": "markdown",
      "source": [
        "###Кластеризация по **умершим** за 1 год (февраль 2022 - февраль 2023)"
      ],
      "metadata": {
        "id": "OSZCuh6k1cA8"
      }
    },
    {
      "cell_type": "code",
      "source": [
        "# Таблица по умершим за 2023\n",
        "year_sickDate = year_death[['Total']]\n",
        "#months_sickDate"
      ],
      "metadata": {
        "id": "2cqw6fZK1cA8"
      },
      "execution_count": null,
      "outputs": []
    },
    {
      "cell_type": "code",
      "source": [
        "import matplotlib.pyplot as plt\n",
        "from sklearn.cluster import KMeans\n",
        "from sklearn.preprocessing import StandardScaler\n",
        "import scipy.cluster.hierarchy as sch"
      ],
      "metadata": {
        "id": "GJhZeYhN1cA8"
      },
      "execution_count": null,
      "outputs": []
    },
    {
      "cell_type": "code",
      "source": [
        "sc = StandardScaler()"
      ],
      "metadata": {
        "id": "mkqZp2Zs1cA8"
      },
      "execution_count": null,
      "outputs": []
    },
    {
      "cell_type": "code",
      "source": [
        "year_kmean_z = sc.fit_transform(year_sickDate)\n",
        "year_kmean_z = pd.DataFrame(year_kmean_z)\n",
        "year_kmean_z.fillna(0)"
      ],
      "metadata": {
        "colab": {
          "base_uri": "https://localhost:8080/",
          "height": 423
        },
        "outputId": "d69d6465-b2ec-4688-a45a-1a4bb22d2af8",
        "id": "OW4LaxLG1cA9"
      },
      "execution_count": null,
      "outputs": [
        {
          "output_type": "execute_result",
          "data": {
            "text/plain": [
              "            0\n",
              "0   -0.214721\n",
              "1   -0.227843\n",
              "2   -0.234288\n",
              "3   -0.236772\n",
              "4   -0.235297\n",
              "..        ...\n",
              "284 -0.221787\n",
              "285 -0.237859\n",
              "286 -0.235996\n",
              "287 -0.229707\n",
              "288 -0.217050\n",
              "\n",
              "[289 rows x 1 columns]"
            ],
            "text/html": [
              "\n",
              "  <div id=\"df-57e83ce0-f342-4d58-9b38-5406bb398a29\">\n",
              "    <div class=\"colab-df-container\">\n",
              "      <div>\n",
              "<style scoped>\n",
              "    .dataframe tbody tr th:only-of-type {\n",
              "        vertical-align: middle;\n",
              "    }\n",
              "\n",
              "    .dataframe tbody tr th {\n",
              "        vertical-align: top;\n",
              "    }\n",
              "\n",
              "    .dataframe thead th {\n",
              "        text-align: right;\n",
              "    }\n",
              "</style>\n",
              "<table border=\"1\" class=\"dataframe\">\n",
              "  <thead>\n",
              "    <tr style=\"text-align: right;\">\n",
              "      <th></th>\n",
              "      <th>0</th>\n",
              "    </tr>\n",
              "  </thead>\n",
              "  <tbody>\n",
              "    <tr>\n",
              "      <th>0</th>\n",
              "      <td>-0.214721</td>\n",
              "    </tr>\n",
              "    <tr>\n",
              "      <th>1</th>\n",
              "      <td>-0.227843</td>\n",
              "    </tr>\n",
              "    <tr>\n",
              "      <th>2</th>\n",
              "      <td>-0.234288</td>\n",
              "    </tr>\n",
              "    <tr>\n",
              "      <th>3</th>\n",
              "      <td>-0.236772</td>\n",
              "    </tr>\n",
              "    <tr>\n",
              "      <th>4</th>\n",
              "      <td>-0.235297</td>\n",
              "    </tr>\n",
              "    <tr>\n",
              "      <th>...</th>\n",
              "      <td>...</td>\n",
              "    </tr>\n",
              "    <tr>\n",
              "      <th>284</th>\n",
              "      <td>-0.221787</td>\n",
              "    </tr>\n",
              "    <tr>\n",
              "      <th>285</th>\n",
              "      <td>-0.237859</td>\n",
              "    </tr>\n",
              "    <tr>\n",
              "      <th>286</th>\n",
              "      <td>-0.235996</td>\n",
              "    </tr>\n",
              "    <tr>\n",
              "      <th>287</th>\n",
              "      <td>-0.229707</td>\n",
              "    </tr>\n",
              "    <tr>\n",
              "      <th>288</th>\n",
              "      <td>-0.217050</td>\n",
              "    </tr>\n",
              "  </tbody>\n",
              "</table>\n",
              "<p>289 rows × 1 columns</p>\n",
              "</div>\n",
              "      <button class=\"colab-df-convert\" onclick=\"convertToInteractive('df-57e83ce0-f342-4d58-9b38-5406bb398a29')\"\n",
              "              title=\"Convert this dataframe to an interactive table.\"\n",
              "              style=\"display:none;\">\n",
              "        \n",
              "  <svg xmlns=\"http://www.w3.org/2000/svg\" height=\"24px\"viewBox=\"0 0 24 24\"\n",
              "       width=\"24px\">\n",
              "    <path d=\"M0 0h24v24H0V0z\" fill=\"none\"/>\n",
              "    <path d=\"M18.56 5.44l.94 2.06.94-2.06 2.06-.94-2.06-.94-.94-2.06-.94 2.06-2.06.94zm-11 1L8.5 8.5l.94-2.06 2.06-.94-2.06-.94L8.5 2.5l-.94 2.06-2.06.94zm10 10l.94 2.06.94-2.06 2.06-.94-2.06-.94-.94-2.06-.94 2.06-2.06.94z\"/><path d=\"M17.41 7.96l-1.37-1.37c-.4-.4-.92-.59-1.43-.59-.52 0-1.04.2-1.43.59L10.3 9.45l-7.72 7.72c-.78.78-.78 2.05 0 2.83L4 21.41c.39.39.9.59 1.41.59.51 0 1.02-.2 1.41-.59l7.78-7.78 2.81-2.81c.8-.78.8-2.07 0-2.86zM5.41 20L4 18.59l7.72-7.72 1.47 1.35L5.41 20z\"/>\n",
              "  </svg>\n",
              "      </button>\n",
              "      \n",
              "  <style>\n",
              "    .colab-df-container {\n",
              "      display:flex;\n",
              "      flex-wrap:wrap;\n",
              "      gap: 12px;\n",
              "    }\n",
              "\n",
              "    .colab-df-convert {\n",
              "      background-color: #E8F0FE;\n",
              "      border: none;\n",
              "      border-radius: 50%;\n",
              "      cursor: pointer;\n",
              "      display: none;\n",
              "      fill: #1967D2;\n",
              "      height: 32px;\n",
              "      padding: 0 0 0 0;\n",
              "      width: 32px;\n",
              "    }\n",
              "\n",
              "    .colab-df-convert:hover {\n",
              "      background-color: #E2EBFA;\n",
              "      box-shadow: 0px 1px 2px rgba(60, 64, 67, 0.3), 0px 1px 3px 1px rgba(60, 64, 67, 0.15);\n",
              "      fill: #174EA6;\n",
              "    }\n",
              "\n",
              "    [theme=dark] .colab-df-convert {\n",
              "      background-color: #3B4455;\n",
              "      fill: #D2E3FC;\n",
              "    }\n",
              "\n",
              "    [theme=dark] .colab-df-convert:hover {\n",
              "      background-color: #434B5C;\n",
              "      box-shadow: 0px 1px 3px 1px rgba(0, 0, 0, 0.15);\n",
              "      filter: drop-shadow(0px 1px 2px rgba(0, 0, 0, 0.3));\n",
              "      fill: #FFFFFF;\n",
              "    }\n",
              "  </style>\n",
              "\n",
              "      <script>\n",
              "        const buttonEl =\n",
              "          document.querySelector('#df-57e83ce0-f342-4d58-9b38-5406bb398a29 button.colab-df-convert');\n",
              "        buttonEl.style.display =\n",
              "          google.colab.kernel.accessAllowed ? 'block' : 'none';\n",
              "\n",
              "        async function convertToInteractive(key) {\n",
              "          const element = document.querySelector('#df-57e83ce0-f342-4d58-9b38-5406bb398a29');\n",
              "          const dataTable =\n",
              "            await google.colab.kernel.invokeFunction('convertToInteractive',\n",
              "                                                     [key], {});\n",
              "          if (!dataTable) return;\n",
              "\n",
              "          const docLinkHtml = 'Like what you see? Visit the ' +\n",
              "            '<a target=\"_blank\" href=https://colab.research.google.com/notebooks/data_table.ipynb>data table notebook</a>'\n",
              "            + ' to learn more about interactive tables.';\n",
              "          element.innerHTML = '';\n",
              "          dataTable['output_type'] = 'display_data';\n",
              "          await google.colab.output.renderOutput(dataTable, element);\n",
              "          const docLink = document.createElement('div');\n",
              "          docLink.innerHTML = docLinkHtml;\n",
              "          element.appendChild(docLink);\n",
              "        }\n",
              "      </script>\n",
              "    </div>\n",
              "  </div>\n",
              "  "
            ]
          },
          "metadata": {},
          "execution_count": 277
        }
      ]
    },
    {
      "cell_type": "code",
      "source": [
        "clast_z = []\n",
        "for i in range(1, 20):\n",
        "  kmean = KMeans(n_clusters=i)\n",
        "  kmean.fit(year_kmean_z)\n",
        "  clast_z.append(kmean.inertia_)\n",
        "plt.plot(range(1, 20), clast_z)\n",
        "plt.show()"
      ],
      "metadata": {
        "colab": {
          "base_uri": "https://localhost:8080/",
          "height": 267
        },
        "outputId": "a2aafa4f-3f01-4f21-9ef1-c8e144c49f3c",
        "id": "0PTi6Tsb1cA9"
      },
      "execution_count": null,
      "outputs": [
        {
          "output_type": "display_data",
          "data": {
            "text/plain": [
              "<Figure size 432x288 with 1 Axes>"
            ],
            "image/png": "[encoded data removed]"
          },
          "metadata": {
            "needs_background": "light"
          }
        }
      ]
    },
    {
      "cell_type": "code",
      "source": [
        "Z = sch.linkage(year_kmean_z, method='ward')\n",
        "plt.figure()\n",
        "dn = sch.dendrogram(Z)\n",
        "plt.show()"
      ],
      "metadata": {
        "colab": {
          "base_uri": "https://localhost:8080/",
          "height": 265
        },
        "outputId": "8732890c-c1d5-4374-9694-f3e8db8cc7be",
        "id": "1VCVAthm1cA9"
      },
      "execution_count": null,
      "outputs": [
        {
          "output_type": "display_data",
          "data": {
            "text/plain": [
              "<Figure size 432x288 with 1 Axes>"
            ],
            "image/png": "[encoded data removed]"
          },
          "metadata": {
            "needs_background": "light"
          }
        }
      ]
    },
    {
      "cell_type": "code",
      "source": [
        "kmean = KMeans(n_clusters=3)\n",
        "kmean.fit(year_kmean_z)"
      ],
      "metadata": {
        "colab": {
          "base_uri": "https://localhost:8080/"
        },
        "outputId": "4b5c1d6b-997d-438b-c5fc-4a9decc0d09f",
        "id": "uMr_N3i_1cA9"
      },
      "execution_count": null,
      "outputs": [
        {
          "output_type": "execute_result",
          "data": {
            "text/plain": [
              "KMeans(n_clusters=3)"
            ]
          },
          "metadata": {},
          "execution_count": 286
        }
      ]
    },
    {
      "cell_type": "code",
      "source": [
        "kmean.predict(year_kmean_z)"
      ],
      "metadata": {
        "colab": {
          "base_uri": "https://localhost:8080/"
        },
        "outputId": "87472b51-2b4e-4a06-d831-4c8a1ec60e92",
        "id": "nXKH4BdO1cA9"
      },
      "execution_count": null,
      "outputs": [
        {
          "output_type": "execute_result",
          "data": {
            "text/plain": [
              "array([0, 0, 0, 0, 0, 0, 0, 0, 0, 0, 0, 0, 0, 0, 0, 0, 0, 0, 0, 0, 0, 0,\n",
              "       0, 0, 0, 0, 0, 0, 0, 0, 0, 1, 0, 0, 0, 0, 0, 0, 0, 0, 0, 0, 0, 0,\n",
              "       0, 0, 0, 0, 0, 0, 0, 0, 0, 0, 0, 0, 0, 0, 0, 0, 0, 0, 0, 0, 0, 0,\n",
              "       0, 0, 0, 0, 0, 0, 0, 0, 0, 0, 0, 0, 0, 0, 0, 0, 0, 0, 0, 0, 0, 0,\n",
              "       0, 1, 0, 0, 0, 0, 0, 0, 0, 0, 0, 0, 0, 0, 0, 0, 0, 0, 0, 0, 0, 0,\n",
              "       0, 0, 0, 0, 0, 0, 0, 0, 0, 0, 0, 0, 0, 0, 0, 0, 0, 0, 0, 0, 0, 1,\n",
              "       0, 0, 0, 1, 0, 0, 0, 0, 0, 0, 0, 0, 0, 0, 0, 0, 0, 0, 0, 0, 0, 0,\n",
              "       1, 0, 1, 0, 0, 0, 0, 0, 1, 0, 0, 0, 0, 0, 0, 0, 0, 0, 0, 0, 0, 0,\n",
              "       0, 0, 0, 0, 0, 0, 0, 0, 0, 0, 0, 0, 0, 0, 0, 0, 0, 0, 0, 0, 0, 0,\n",
              "       0, 0, 0, 0, 0, 0, 0, 0, 0, 0, 0, 0, 0, 0, 0, 0, 0, 0, 0, 0, 0, 0,\n",
              "       0, 1, 0, 0, 0, 0, 0, 0, 0, 0, 0, 0, 0, 0, 0, 0, 0, 0, 0, 0, 0, 0,\n",
              "       0, 0, 0, 0, 0, 0, 0, 0, 0, 0, 0, 0, 0, 0, 0, 0, 0, 0, 2, 0, 0, 0,\n",
              "       0, 0, 0, 0, 0, 0, 0, 0, 0, 0, 0, 0, 0, 0, 1, 0, 0, 0, 0, 0, 0, 0,\n",
              "       0, 0, 0], dtype=int32)"
            ]
          },
          "metadata": {},
          "execution_count": 287
        }
      ]
    },
    {
      "cell_type": "code",
      "source": [
        "plt.scatter(year_death['Lat'], year_death['Long'], c=kmean.labels_)\n",
        "plt.text(61.52401, 105.318756, 'Россия', c='red')\n",
        "plt.show()"
      ],
      "metadata": {
        "colab": {
          "base_uri": "https://localhost:8080/",
          "height": 265
        },
        "outputId": "8b09cc34-fe29-4894-88e2-81c8206415a3",
        "id": "vomNGG0m1cA-"
      },
      "execution_count": null,
      "outputs": [
        {
          "output_type": "display_data",
          "data": {
            "text/plain": [
              "<Figure size 432x288 with 1 Axes>"
            ],
            "image/png": "[encoded data removed]"
          },
          "metadata": {
            "needs_background": "light"
          }
        }
      ]
    },
    {
      "cell_type": "markdown",
      "source": [
        "*Вывод: Россия оказалась в кластере с одним из самых больших показателей по смертности в 2023*\n",
        "\n",
        "---\n",
        "\n",
        "\n",
        "\n",
        "---\n",
        "\n"
      ],
      "metadata": {
        "id": "S-2x9DHD1cA-"
      }
    }
  ]
}